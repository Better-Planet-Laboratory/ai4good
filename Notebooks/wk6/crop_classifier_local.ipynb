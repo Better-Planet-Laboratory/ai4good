{
 "cells": [
  {
   "cell_type": "markdown",
   "id": "6398691f93e37503",
   "metadata": {},
   "source": [
    "# Crop Classification from Sentinel-2 Satellite Imagery with XGBoosted Trees\n",
    "\n",
    "## Outline\n",
    "\n",
    "1) [Collect and clean data](#Data)\n",
    "2) [Feature selection](#Feature-selection)\n",
    "3) [Build and tune model](#Build-model)\n",
    "4) [Evaluate model](#Evaluate-model)\n",
    "5) [Next steps](#Next-steps)"
   ]
  },
  {
   "cell_type": "markdown",
   "id": "da55efa9db55d432",
   "metadata": {},
   "source": [
    "## Data\n",
    "\n",
    "This tutorial is based on previous work to predict high-resolution seasonal maize class and yield in Rwanda. It is recommended to review the enclosed paper for greater detail on context, data sources and types, and the aims/challenges of this work. However, briefly:\n",
    "\n",
    "Optical imagery from the Sentinel-2 satellite and auxiliary data on climate, geography, and geopolitical boundaries were used in supervised learning with crop cut data (primarily) collected in the field.  \n",
    "\n",
    "Land cover was classified into nine mutually exclusive groups: 1) maize, 2) non-maize annual crops (e.g. beans, potatoes, cassava), 3) non-maize perennial crops (e.g. bananas), 4) forest and tree cover, 5) shrub and scrubland, given the shorthand name of rangeland here, 6) structure and built environment, 7) bare ground, 8) wetland, 9) water bodies. \n",
    "\n",
    "The raw spectral output of 12 Sentinel-2 bands as well as several derived indices were summarized by agricultural season with distributional statistics (mean, standard deviation, min, max).\n",
    "\n",
    "One Acre Fund (OAF) provided the crop cut data for major crops in Rwanda while data for other land cover classes was augmented with RTI International annotated drone imagery and existing global land cover products from Dynamic World (DW), Impact Observatory (IO), and the European Space Agency (ESA).\n",
    "\n",
    "See the following table for detail on each input feature. The data provided to you includes all of these variables, but for the purposes of this tutorial we will only use a subset.  "
   ]
  },
  {
   "cell_type": "markdown",
   "id": "bad99928234c31a9",
   "metadata": {},
   "source": [
    "![Table 1: Predictor Descriptions](./data/predictor_descriptions.png)"
   ]
  },
  {
   "cell_type": "markdown",
   "id": "9f86aee9",
   "metadata": {},
   "source": [
    "## Environment Setup"
   ]
  },
  {
   "cell_type": "code",
   "execution_count": 15,
   "id": "b736f74a163a889",
   "metadata": {
    "ExecuteTime": {
     "end_time": "2024-12-23T19:41:59.189790Z",
     "start_time": "2024-12-23T19:41:53.801185Z"
    }
   },
   "outputs": [],
   "source": [
    "# some general packages we'll use:\n",
    "import pandas as pd\n",
    "import numpy as np\n",
    "import re\n",
    "import matplotlib.pyplot as plt\n",
    "\n",
    "pd.options.display.float_format = '{:.2f}'.format  # limit decimal places displayed for easier viewing"
   ]
  },
  {
   "cell_type": "code",
   "execution_count": 17,
   "id": "5241c63d2796bb3f",
   "metadata": {
    "ExecuteTime": {
     "end_time": "2024-12-23T19:42:25.371895Z",
     "start_time": "2024-12-23T19:42:25.085769Z"
    }
   },
   "outputs": [],
   "source": [
    "data_raw = pd.read_parquet('./data/training_data_for_classifier.parquet')"
   ]
  },
  {
   "cell_type": "code",
   "execution_count": 18,
   "id": "ade05f7f4182e42b",
   "metadata": {
    "ExecuteTime": {
     "end_time": "2024-12-23T19:44:26.115452Z",
     "start_time": "2024-12-23T19:44:26.108345Z"
    }
   },
   "outputs": [
    {
     "data": {
      "text/plain": [
       "crop_type\n",
       "nonmaize_annual       19957\n",
       "maize                  9719\n",
       "forest                 8645\n",
       "rangeland              3187\n",
       "water                  2994\n",
       "wetland                2887\n",
       "structure              2345\n",
       "nonmaize_perennial      363\n",
       "bare                    345\n",
       "Name: count, dtype: int64"
      ]
     },
     "execution_count": 18,
     "metadata": {},
     "output_type": "execute_result"
    }
   ],
   "source": [
    "# sample size by land cover class\n",
    "data_raw['crop_type'].value_counts(dropna=False)"
   ]
  },
  {
   "cell_type": "code",
   "execution_count": 19,
   "id": "3a8166ce743cb664",
   "metadata": {
    "ExecuteTime": {
     "end_time": "2024-12-23T18:48:47.537850Z",
     "start_time": "2024-12-23T18:48:47.489906Z"
    }
   },
   "outputs": [
    {
     "data": {
      "text/plain": [
       "crop_id\n",
       "oaf          28881\n",
       "dw_io_esa    19757\n",
       "rti           1804\n",
       "Name: count, dtype: int64"
      ]
     },
     "execution_count": 19,
     "metadata": {},
     "output_type": "execute_result"
    }
   ],
   "source": [
    "# sample size by data source\n",
    "data_raw['crop_id'].apply(lambda s: re.sub(r\"_[0-9]+\", \"\", s)).value_counts(dropna=False)"
   ]
  },
  {
   "cell_type": "markdown",
   "id": "3e37e8a67d12638d",
   "metadata": {},
   "source": [
    "## Feature selection\n",
    "\n",
    "In the paper, we used an empirical feature selection strategy that chose variables with the highest Mutual Information Scores that were not highly correlated with other variables. \n",
    "\n",
    "Here, we will manually select variables given our expert knowledge and build a model from mean seasonal Sentinel-2 spectral information, one derived index, and topographic information from a Digital Elevation Model (DEM).\n",
    "\n",
    "What other features do you think might be predictive of land cover type?  "
   ]
  },
  {
   "cell_type": "code",
   "execution_count": 20,
   "id": "17b7d99ac3a0a959",
   "metadata": {
    "ExecuteTime": {
     "end_time": "2024-12-23T18:48:47.586692Z",
     "start_time": "2024-12-23T18:48:47.584494Z"
    }
   },
   "outputs": [],
   "source": [
    "id_cols = ['crop_id', 'crop_type', 'label', 'intercrop', 'season', 'sos_actual']\n",
    "s2_predictors = data_raw.columns[data_raw.columns.str.contains(\"B[0-9]*_mean$\")].tolist()\n",
    "topo_predictors = ['elevation', 'slope', 'aspect']\n",
    "predictors = s2_predictors + topo_predictors"
   ]
  },
  {
   "cell_type": "code",
   "execution_count": 21,
   "id": "b7f2f3fe965bc6bc",
   "metadata": {
    "ExecuteTime": {
     "end_time": "2024-12-23T18:48:47.596487Z",
     "start_time": "2024-12-23T18:48:47.592266Z"
    }
   },
   "outputs": [],
   "source": [
    "data = data_raw.filter(id_cols + predictors)"
   ]
  },
  {
   "cell_type": "code",
   "execution_count": 22,
   "id": "808874c518b0dbae",
   "metadata": {
    "ExecuteTime": {
     "end_time": "2024-12-23T18:48:47.619345Z",
     "start_time": "2024-12-23T18:48:47.613320Z"
    }
   },
   "outputs": [
    {
     "data": {
      "text/html": [
       "<div>\n",
       "<style scoped>\n",
       "    .dataframe tbody tr th:only-of-type {\n",
       "        vertical-align: middle;\n",
       "    }\n",
       "\n",
       "    .dataframe tbody tr th {\n",
       "        vertical-align: top;\n",
       "    }\n",
       "\n",
       "    .dataframe thead th {\n",
       "        text-align: right;\n",
       "    }\n",
       "</style>\n",
       "<table border=\"1\" class=\"dataframe\">\n",
       "  <thead>\n",
       "    <tr style=\"text-align: right;\">\n",
       "      <th></th>\n",
       "      <th>crop_id</th>\n",
       "      <th>crop_type</th>\n",
       "      <th>label</th>\n",
       "      <th>intercrop</th>\n",
       "      <th>season</th>\n",
       "      <th>sos_actual</th>\n",
       "      <th>B1_mean</th>\n",
       "      <th>B2_mean</th>\n",
       "      <th>B3_mean</th>\n",
       "      <th>B4_mean</th>\n",
       "      <th>B5_mean</th>\n",
       "      <th>B6_mean</th>\n",
       "      <th>B7_mean</th>\n",
       "      <th>B8_mean</th>\n",
       "      <th>B9_mean</th>\n",
       "      <th>B11_mean</th>\n",
       "      <th>B12_mean</th>\n",
       "      <th>elevation</th>\n",
       "      <th>slope</th>\n",
       "      <th>aspect</th>\n",
       "    </tr>\n",
       "  </thead>\n",
       "  <tbody>\n",
       "    <tr>\n",
       "      <th>0</th>\n",
       "      <td>oaf_53465</td>\n",
       "      <td>maize</td>\n",
       "      <td>mze</td>\n",
       "      <td>0.00</td>\n",
       "      <td>2023_Season_A</td>\n",
       "      <td>20220901</td>\n",
       "      <td>0.04</td>\n",
       "      <td>0.04</td>\n",
       "      <td>0.07</td>\n",
       "      <td>0.07</td>\n",
       "      <td>0.12</td>\n",
       "      <td>0.27</td>\n",
       "      <td>0.30</td>\n",
       "      <td>0.30</td>\n",
       "      <td>0.32</td>\n",
       "      <td>0.18</td>\n",
       "      <td>0.11</td>\n",
       "      <td>1770.83</td>\n",
       "      <td>8.63</td>\n",
       "      <td>204.91</td>\n",
       "    </tr>\n",
       "    <tr>\n",
       "      <th>1</th>\n",
       "      <td>oaf_47129</td>\n",
       "      <td>nonmaize_annual</td>\n",
       "      <td>pot</td>\n",
       "      <td>1.00</td>\n",
       "      <td>2023_Season_A</td>\n",
       "      <td>20220901</td>\n",
       "      <td>0.05</td>\n",
       "      <td>0.05</td>\n",
       "      <td>0.07</td>\n",
       "      <td>0.07</td>\n",
       "      <td>0.11</td>\n",
       "      <td>0.21</td>\n",
       "      <td>0.24</td>\n",
       "      <td>0.23</td>\n",
       "      <td>0.27</td>\n",
       "      <td>0.18</td>\n",
       "      <td>0.13</td>\n",
       "      <td>2259.86</td>\n",
       "      <td>4.84</td>\n",
       "      <td>99.71</td>\n",
       "    </tr>\n",
       "    <tr>\n",
       "      <th>2</th>\n",
       "      <td>oaf_52319</td>\n",
       "      <td>nonmaize_annual</td>\n",
       "      <td>bub</td>\n",
       "      <td>1.00</td>\n",
       "      <td>2023_Season_A</td>\n",
       "      <td>20220901</td>\n",
       "      <td>0.04</td>\n",
       "      <td>0.05</td>\n",
       "      <td>0.07</td>\n",
       "      <td>0.07</td>\n",
       "      <td>0.13</td>\n",
       "      <td>0.26</td>\n",
       "      <td>0.30</td>\n",
       "      <td>0.31</td>\n",
       "      <td>0.29</td>\n",
       "      <td>0.25</td>\n",
       "      <td>0.17</td>\n",
       "      <td>1622.87</td>\n",
       "      <td>8.22</td>\n",
       "      <td>299.02</td>\n",
       "    </tr>\n",
       "    <tr>\n",
       "      <th>3</th>\n",
       "      <td>oaf_58952</td>\n",
       "      <td>maize</td>\n",
       "      <td>mze</td>\n",
       "      <td>1.00</td>\n",
       "      <td>2023_Season_A</td>\n",
       "      <td>20220901</td>\n",
       "      <td>0.04</td>\n",
       "      <td>0.05</td>\n",
       "      <td>0.07</td>\n",
       "      <td>0.08</td>\n",
       "      <td>0.12</td>\n",
       "      <td>0.20</td>\n",
       "      <td>0.22</td>\n",
       "      <td>0.22</td>\n",
       "      <td>0.25</td>\n",
       "      <td>0.21</td>\n",
       "      <td>0.15</td>\n",
       "      <td>1742.83</td>\n",
       "      <td>11.63</td>\n",
       "      <td>118.19</td>\n",
       "    </tr>\n",
       "    <tr>\n",
       "      <th>4</th>\n",
       "      <td>oaf_56441</td>\n",
       "      <td>nonmaize_annual</td>\n",
       "      <td>clb</td>\n",
       "      <td>1.00</td>\n",
       "      <td>2023_Season_A</td>\n",
       "      <td>20220901</td>\n",
       "      <td>0.05</td>\n",
       "      <td>0.06</td>\n",
       "      <td>0.10</td>\n",
       "      <td>0.11</td>\n",
       "      <td>0.17</td>\n",
       "      <td>0.25</td>\n",
       "      <td>0.27</td>\n",
       "      <td>0.28</td>\n",
       "      <td>0.28</td>\n",
       "      <td>0.25</td>\n",
       "      <td>0.18</td>\n",
       "      <td>2212.32</td>\n",
       "      <td>13.50</td>\n",
       "      <td>260.21</td>\n",
       "    </tr>\n",
       "    <tr>\n",
       "      <th>...</th>\n",
       "      <td>...</td>\n",
       "      <td>...</td>\n",
       "      <td>...</td>\n",
       "      <td>...</td>\n",
       "      <td>...</td>\n",
       "      <td>...</td>\n",
       "      <td>...</td>\n",
       "      <td>...</td>\n",
       "      <td>...</td>\n",
       "      <td>...</td>\n",
       "      <td>...</td>\n",
       "      <td>...</td>\n",
       "      <td>...</td>\n",
       "      <td>...</td>\n",
       "      <td>...</td>\n",
       "      <td>...</td>\n",
       "      <td>...</td>\n",
       "      <td>...</td>\n",
       "      <td>...</td>\n",
       "      <td>...</td>\n",
       "    </tr>\n",
       "    <tr>\n",
       "      <th>50437</th>\n",
       "      <td>oaf_622</td>\n",
       "      <td>nonmaize_annual</td>\n",
       "      <td>pot</td>\n",
       "      <td>0.00</td>\n",
       "      <td>2022_Season_A</td>\n",
       "      <td>20210901</td>\n",
       "      <td>0.04</td>\n",
       "      <td>0.05</td>\n",
       "      <td>0.09</td>\n",
       "      <td>0.08</td>\n",
       "      <td>0.14</td>\n",
       "      <td>0.28</td>\n",
       "      <td>0.32</td>\n",
       "      <td>0.30</td>\n",
       "      <td>0.35</td>\n",
       "      <td>0.24</td>\n",
       "      <td>0.15</td>\n",
       "      <td>1911.79</td>\n",
       "      <td>5.74</td>\n",
       "      <td>180.00</td>\n",
       "    </tr>\n",
       "    <tr>\n",
       "      <th>50438</th>\n",
       "      <td>oaf_11209</td>\n",
       "      <td>nonmaize_annual</td>\n",
       "      <td>bub</td>\n",
       "      <td>1.00</td>\n",
       "      <td>2022_Season_A</td>\n",
       "      <td>20210901</td>\n",
       "      <td>0.05</td>\n",
       "      <td>0.05</td>\n",
       "      <td>0.07</td>\n",
       "      <td>0.08</td>\n",
       "      <td>0.12</td>\n",
       "      <td>0.22</td>\n",
       "      <td>0.25</td>\n",
       "      <td>0.25</td>\n",
       "      <td>0.26</td>\n",
       "      <td>0.21</td>\n",
       "      <td>0.15</td>\n",
       "      <td>1420.75</td>\n",
       "      <td>3.20</td>\n",
       "      <td>308.59</td>\n",
       "    </tr>\n",
       "    <tr>\n",
       "      <th>50439</th>\n",
       "      <td>oaf_9394</td>\n",
       "      <td>nonmaize_annual</td>\n",
       "      <td>pot</td>\n",
       "      <td>0.00</td>\n",
       "      <td>2022_Season_A</td>\n",
       "      <td>20210901</td>\n",
       "      <td>0.06</td>\n",
       "      <td>0.07</td>\n",
       "      <td>0.10</td>\n",
       "      <td>0.09</td>\n",
       "      <td>0.16</td>\n",
       "      <td>0.34</td>\n",
       "      <td>0.40</td>\n",
       "      <td>0.40</td>\n",
       "      <td>0.40</td>\n",
       "      <td>0.27</td>\n",
       "      <td>0.16</td>\n",
       "      <td>2120.43</td>\n",
       "      <td>15.62</td>\n",
       "      <td>338.31</td>\n",
       "    </tr>\n",
       "    <tr>\n",
       "      <th>50440</th>\n",
       "      <td>oaf_5217</td>\n",
       "      <td>nonmaize_annual</td>\n",
       "      <td>bub</td>\n",
       "      <td>0.00</td>\n",
       "      <td>2022_Season_A</td>\n",
       "      <td>20210901</td>\n",
       "      <td>0.05</td>\n",
       "      <td>0.06</td>\n",
       "      <td>0.09</td>\n",
       "      <td>0.10</td>\n",
       "      <td>0.13</td>\n",
       "      <td>0.21</td>\n",
       "      <td>0.23</td>\n",
       "      <td>0.22</td>\n",
       "      <td>0.24</td>\n",
       "      <td>0.21</td>\n",
       "      <td>0.15</td>\n",
       "      <td>1424.67</td>\n",
       "      <td>8.88</td>\n",
       "      <td>312.61</td>\n",
       "    </tr>\n",
       "    <tr>\n",
       "      <th>50441</th>\n",
       "      <td>oaf_9201</td>\n",
       "      <td>maize</td>\n",
       "      <td>mze</td>\n",
       "      <td>0.00</td>\n",
       "      <td>2022_Season_A</td>\n",
       "      <td>20210901</td>\n",
       "      <td>0.06</td>\n",
       "      <td>0.06</td>\n",
       "      <td>0.08</td>\n",
       "      <td>0.09</td>\n",
       "      <td>0.13</td>\n",
       "      <td>0.20</td>\n",
       "      <td>0.23</td>\n",
       "      <td>0.23</td>\n",
       "      <td>0.24</td>\n",
       "      <td>0.27</td>\n",
       "      <td>0.21</td>\n",
       "      <td>1467.00</td>\n",
       "      <td>1.23</td>\n",
       "      <td>90.00</td>\n",
       "    </tr>\n",
       "  </tbody>\n",
       "</table>\n",
       "<p>50442 rows × 20 columns</p>\n",
       "</div>"
      ],
      "text/plain": [
       "         crop_id        crop_type label  intercrop         season  sos_actual  \\\n",
       "0      oaf_53465            maize   mze       0.00  2023_Season_A    20220901   \n",
       "1      oaf_47129  nonmaize_annual   pot       1.00  2023_Season_A    20220901   \n",
       "2      oaf_52319  nonmaize_annual   bub       1.00  2023_Season_A    20220901   \n",
       "3      oaf_58952            maize   mze       1.00  2023_Season_A    20220901   \n",
       "4      oaf_56441  nonmaize_annual   clb       1.00  2023_Season_A    20220901   \n",
       "...          ...              ...   ...        ...            ...         ...   \n",
       "50437    oaf_622  nonmaize_annual   pot       0.00  2022_Season_A    20210901   \n",
       "50438  oaf_11209  nonmaize_annual   bub       1.00  2022_Season_A    20210901   \n",
       "50439   oaf_9394  nonmaize_annual   pot       0.00  2022_Season_A    20210901   \n",
       "50440   oaf_5217  nonmaize_annual   bub       0.00  2022_Season_A    20210901   \n",
       "50441   oaf_9201            maize   mze       0.00  2022_Season_A    20210901   \n",
       "\n",
       "       B1_mean  B2_mean  B3_mean  B4_mean  B5_mean  B6_mean  B7_mean  B8_mean  \\\n",
       "0         0.04     0.04     0.07     0.07     0.12     0.27     0.30     0.30   \n",
       "1         0.05     0.05     0.07     0.07     0.11     0.21     0.24     0.23   \n",
       "2         0.04     0.05     0.07     0.07     0.13     0.26     0.30     0.31   \n",
       "3         0.04     0.05     0.07     0.08     0.12     0.20     0.22     0.22   \n",
       "4         0.05     0.06     0.10     0.11     0.17     0.25     0.27     0.28   \n",
       "...        ...      ...      ...      ...      ...      ...      ...      ...   \n",
       "50437     0.04     0.05     0.09     0.08     0.14     0.28     0.32     0.30   \n",
       "50438     0.05     0.05     0.07     0.08     0.12     0.22     0.25     0.25   \n",
       "50439     0.06     0.07     0.10     0.09     0.16     0.34     0.40     0.40   \n",
       "50440     0.05     0.06     0.09     0.10     0.13     0.21     0.23     0.22   \n",
       "50441     0.06     0.06     0.08     0.09     0.13     0.20     0.23     0.23   \n",
       "\n",
       "       B9_mean  B11_mean  B12_mean  elevation  slope  aspect  \n",
       "0         0.32      0.18      0.11    1770.83   8.63  204.91  \n",
       "1         0.27      0.18      0.13    2259.86   4.84   99.71  \n",
       "2         0.29      0.25      0.17    1622.87   8.22  299.02  \n",
       "3         0.25      0.21      0.15    1742.83  11.63  118.19  \n",
       "4         0.28      0.25      0.18    2212.32  13.50  260.21  \n",
       "...        ...       ...       ...        ...    ...     ...  \n",
       "50437     0.35      0.24      0.15    1911.79   5.74  180.00  \n",
       "50438     0.26      0.21      0.15    1420.75   3.20  308.59  \n",
       "50439     0.40      0.27      0.16    2120.43  15.62  338.31  \n",
       "50440     0.24      0.21      0.15    1424.67   8.88  312.61  \n",
       "50441     0.24      0.27      0.21    1467.00   1.23   90.00  \n",
       "\n",
       "[50442 rows x 20 columns]"
      ]
     },
     "execution_count": 22,
     "metadata": {},
     "output_type": "execute_result"
    }
   ],
   "source": [
    "# Take a look at the data subset:\n",
    "data"
   ]
  },
  {
   "cell_type": "markdown",
   "id": "87f5d6ee6fe14e36",
   "metadata": {},
   "source": [
    "Let's compute the Normalized Difference Vegetation Index (NDVI), one of the most commonly used indices to measure vegetative health from satellite data. \n",
    "\n",
    "NDVI is a ratio between the Red and Near-Infrared bands and measures the amount of red light and near-infrared light absorbed on the ground. Typically, a plant is healthier if it absorbs more red light relative to infrared light (NDVI close to 1) while NDVI values close to 0 or negative values can indicate unhealthy vegetation or areas of non-vegetation such as bare ground, structures, or fallowed fields.\n",
    "\n",
    "(Note: The mean seasonal NDVI we calculate will be different than that given in the raw data ('ndvi_mean') because the latter represents a mean of daily NDVIs whereas here we are computing mean NDVI from variables that are already averaged over the season.)"
   ]
  },
  {
   "cell_type": "code",
   "execution_count": 23,
   "id": "c57cdfa734ce5076",
   "metadata": {
    "ExecuteTime": {
     "end_time": "2024-12-23T18:48:47.830042Z",
     "start_time": "2024-12-23T18:48:47.648272Z"
    }
   },
   "outputs": [],
   "source": [
    "def compute_ndvi(b8, b4): \n",
    "    return (b8-b4) / (b8+b4)\n",
    "\n",
    "data['ndvi_mean'] = data.apply(lambda df: compute_ndvi(df['B8_mean'], df['B4_mean']), axis=1)\n",
    "\n",
    "# add to predictors list\n",
    "predictors = predictors + ['ndvi_mean']"
   ]
  },
  {
   "cell_type": "markdown",
   "id": "97b7122b921e8a52",
   "metadata": {},
   "source": [
    "## Build model\n",
    "\n",
    "We will use a gradient boosted decision tree to predict land cover type. Particularly, the model we will use is called XGBoost (Extreme Gradient Boosting).\n",
    "\n",
    "The advantages of this model for our prediction task are:\n",
    "* Supervised learning that can solve both regression and classification, including multinomial, problems\n",
    "* Non-parametric so does not require a lot of assumptions\n",
    "* More easily solves non-linear problems with decision boundaries\n",
    "* Hierarchical and detects interactions between features\n",
    "* Accepts heterogeneous data, robust to outliers, and requires less pre-processing (e.g. does not require feature scaling or normalization)\n",
    "\n",
    "What are some of the limitations?\n",
    "\n",
    "### Additional steps before modeling \n",
    "The model expects that the target (i.e. outcome) is numeric and that the dataset does not contain missing data so first we must do some additional cleaning. \n",
    "\n",
    "In order to tune and evaluate our model on independent datasets we need to split our data into training and testing sets. "
   ]
  },
  {
   "cell_type": "code",
   "execution_count": 24,
   "id": "c0cf14f34b953811",
   "metadata": {
    "ExecuteTime": {
     "end_time": "2024-12-23T18:48:52.589666Z",
     "start_time": "2024-12-23T18:48:47.835065Z"
    }
   },
   "outputs": [],
   "source": [
    "# additional packages needed for modeling\n",
    "from sklearn.model_selection import train_test_split\n",
    "import xgboost as xgb"
   ]
  },
  {
   "cell_type": "code",
   "execution_count": 25,
   "id": "68a4c693479293e1",
   "metadata": {
    "ExecuteTime": {
     "end_time": "2024-12-23T18:48:52.616971Z",
     "start_time": "2024-12-23T18:48:52.606656Z"
    }
   },
   "outputs": [],
   "source": [
    "# create nominal outcome \n",
    "data['land_cover_class'] = pd.Categorical(  # order that matches original paper\n",
    "    data['crop_type'],\n",
    "    categories=['maize', 'nonmaize_annual', 'nonmaize_perennial', 'rangeland', 'forest', 'wetland', 'water', 'structure', 'bare'],  \n",
    "    ordered=True\n",
    "    )\n",
    "data['land_cover_class_encoded'] = data['land_cover_class'].cat.codes\n",
    "\n",
    "# remove missing data in outcome and predictors (if any)\n",
    "data.dropna(subset = ['land_cover_class_encoded'] + predictors, inplace = True)\n"
   ]
  },
  {
   "cell_type": "code",
   "execution_count": 26,
   "id": "d54fcad1f27a39aa",
   "metadata": {
    "ExecuteTime": {
     "end_time": "2024-12-23T18:48:52.651085Z",
     "start_time": "2024-12-23T18:48:52.636668Z"
    }
   },
   "outputs": [
    {
     "name": "stdout",
     "output_type": "stream",
     "text": [
      "Size of training dataset: 40353 observations\n",
      "Size of test dataset: 10089 observations\n"
     ]
    }
   ],
   "source": [
    "# split dataset into training and testing sets\n",
    "x_train, x_test, y_train, y_test = train_test_split(\n",
    "    data.filter(predictors), # predictors\n",
    "    data['land_cover_class_encoded'], # outcome\n",
    "    test_size=0.2, # 20% of data reserved for testing set\n",
    "    random_state=123  # seed for reproducibility \n",
    ")\n",
    "print(\"Size of training dataset: {} observations\".format(len(x_train)))\n",
    "print(\"Size of test dataset: {} observations\".format(len(x_test)))\n",
    "\n",
    "# set up model\n",
    "dtrain = xgb.DMatrix(x_train, label=y_train)  # xgb expects data to be a DMatrix object \n",
    "dtest = xgb.DMatrix(x_test, label=y_test)"
   ]
  },
  {
   "cell_type": "markdown",
   "id": "6645beec79e92006",
   "metadata": {},
   "source": [
    "Later we will tune our model to select the best hyperparameters, but for now use the following given hyperparameters. A full list of those available in XGBoost can be found [here](https://xgboost.readthedocs.io/en/latest/parameter.html). "
   ]
  },
  {
   "cell_type": "code",
   "execution_count": 27,
   "id": "fd057865e61eecf2",
   "metadata": {
    "ExecuteTime": {
     "end_time": "2024-12-23T18:48:52.677429Z",
     "start_time": "2024-12-23T18:48:52.675160Z"
    }
   },
   "outputs": [],
   "source": [
    "# choose hyperparameters\n",
    "param = {\n",
    "    'objective': 'multi:softmax',  # ours is a multinomial classification problem; this will output the multiclass classification using the softmax objective\n",
    "    'num_class': data['land_cover_class_encoded'].nunique(),  # specify number of classes in outcome\n",
    "    'eval_metric': ['mlogloss', 'merror'],  # 'mlogloss' = multinomial negative log-likelihood, 'merror' = multiclass classification error rate\n",
    "    'subsample': 0.5,  # helps to prevent overfitting\n",
    "    'sampling_method': 'uniform',\n",
    "    'eta': 0.3,  # learning rate, helps to prevent overfitting\n",
    "    'max_depth': 6,  # maximum depth of tree, controls complexity\n",
    "    'min_child_weight': 1,  # min samples in each node, controls complexity\n",
    "    'seed': 529  # for reproducibility\n",
    "}"
   ]
  },
  {
   "cell_type": "code",
   "execution_count": 28,
   "id": "58161ee766a36a89",
   "metadata": {
    "ExecuteTime": {
     "end_time": "2024-12-23T18:48:58.124707Z",
     "start_time": "2024-12-23T18:48:52.687648Z"
    }
   },
   "outputs": [
    {
     "name": "stdout",
     "output_type": "stream",
     "text": [
      "[0]\ttrain-mlogloss:1.60604\ttrain-merror:0.32875\teval-mlogloss:1.61553\teval-merror:0.33809\n",
      "[100]\ttrain-mlogloss:0.35153\ttrain-merror:0.12353\teval-mlogloss:0.66662\teval-merror:0.26851\n",
      "[200]\ttrain-mlogloss:0.21221\ttrain-merror:0.04882\teval-mlogloss:0.69758\teval-merror:0.27208\n",
      "[217]\ttrain-mlogloss:0.19592\ttrain-merror:0.04176\teval-mlogloss:0.70208\teval-merror:0.27099\n"
     ]
    }
   ],
   "source": [
    "# train model\n",
    "classifier = xgb.train(params=param, dtrain=dtrain, \n",
    "                       num_boost_round=1000,  # number of boosting iterations, \n",
    "                       early_stopping_rounds=100,  # helps control overfitting\n",
    "                       evals=[(dtrain, 'train'), (dtest, 'eval')], verbose_eval=100\n",
    "                       )"
   ]
  },
  {
   "cell_type": "code",
   "execution_count": 29,
   "id": "ee45fa3081a64583",
   "metadata": {
    "ExecuteTime": {
     "end_time": "2024-12-23T18:48:58.136961Z",
     "start_time": "2024-12-23T18:48:58.134856Z"
    }
   },
   "outputs": [
    {
     "name": "stdout",
     "output_type": "stream",
     "text": [
      "Best Error: 0.27 with 119 rounds\n"
     ]
    }
   ],
   "source": [
    "# output performance on testing set, considering early stopping \n",
    "print(\"Best Error: {:.2f} with {} rounds\".format(\n",
    "                 classifier.best_score,\n",
    "                 classifier.best_iteration+1))"
   ]
  },
  {
   "cell_type": "markdown",
   "id": "219a153871b99ad1",
   "metadata": {},
   "source": [
    "## Tune model\n",
    "\n",
    "The architecture of the gradient boosted tree, defined by hyperparameters, is often specific to the data and target. Choosing the right parameter values can have a big impact on performance. Hyperparameter tuning is the process by which you run a model with different sets of parameter values and choose the best settings empirically. \n",
    "\n",
    "We will look at two parameters that control model complexity and overfitting: maximum tree depth and learning rate. \n",
    "* `max_depth`: Deeper trees increase complexity and contain more information about the interactions between predictors, but may increase noise.\n",
    "* `eta`: The shrinkage parameter is a regularization parameter applied to each tree to control for overfitting; with a sufficient number of boosting iterations, smaller values are likely to give more accurate results.\n",
    "\n",
    "The number of boosting iterations, or trees, (`num_boost_round`) is also an important hyperparameter and inversely proportional to the learning rate: as the learning rate decreases, the number of trees must increase  for the model to converge as the model is learning less information at each step. Here, we capture the optimal number of iterations with early stopping, which stops training if performance has not improved for a specified number of rounds (here, n=100). \n",
    "\n",
    "We will evaluate the relative performance of each setting with 5-fold cross-validation using the training set alone. "
   ]
  },
  {
   "cell_type": "code",
   "execution_count": 30,
   "id": "f38dc40c2f3ff148",
   "metadata": {
    "ExecuteTime": {
     "end_time": "2024-12-23T18:48:58.148711Z",
     "start_time": "2024-12-23T18:48:58.146632Z"
    }
   },
   "outputs": [],
   "source": [
    "gridsearch_params = [\n",
    "    (max_depth, eta)\n",
    "    for max_depth in [4, 6, 8]\n",
    "    for eta in [0.2, 0.1, 0.01]\n",
    "]"
   ]
  },
  {
   "cell_type": "markdown",
   "id": "b78c45dea1efd09b",
   "metadata": {},
   "source": [
    "⚠️ Note: This next code block will take some time to run. On an Apple M1 Pro (3.2 GHz 8-core) processor with 16 GB RAM, it took 15-20 minutes to complete. On an Apple M4 Pro processor with 24GB RAM (14-core), it still took 15 minutes. "
   ]
  },
  {
   "cell_type": "code",
   "execution_count": 31,
   "id": "9679be6db3810aac",
   "metadata": {
    "ExecuteTime": {
     "end_time": "2024-12-23T19:06:29.493628Z",
     "start_time": "2024-12-23T18:48:58.158423Z"
    }
   },
   "outputs": [
    {
     "name": "stdout",
     "output_type": "stream",
     "text": [
      "CV with max_depth=4, eta=0.2\n",
      "\tmlogloss 0.6504654950486717 for 232 rounds\n",
      "CV with max_depth=4, eta=0.1\n",
      "\tmlogloss 0.6435659518351516 for 548 rounds\n",
      "CV with max_depth=4, eta=0.01\n",
      "\tmlogloss 0.64852967047275 for 2999 rounds\n",
      "CV with max_depth=6, eta=0.2\n",
      "\tmlogloss 0.6562539046872639 for 112 rounds\n",
      "CV with max_depth=6, eta=0.1\n",
      "\tmlogloss 0.6475089966915444 for 237 rounds\n",
      "CV with max_depth=6, eta=0.01\n",
      "\tmlogloss 0.6388234224476901 for 2410 rounds\n",
      "CV with max_depth=8, eta=0.2\n",
      "\tmlogloss 0.6683007245851111 for 58 rounds\n",
      "CV with max_depth=8, eta=0.1\n",
      "\tmlogloss 0.6546543244280888 for 146 rounds\n",
      "CV with max_depth=8, eta=0.01\n",
      "\tmlogloss 0.6436071827619152 for 1537 rounds\n"
     ]
    }
   ],
   "source": [
    "# Run hyperparameter search \n",
    "min_mlogloss = float(\"Inf\")\n",
    "best_params = None\n",
    "\n",
    "for max_depth, eta in gridsearch_params:\n",
    "    print(\"CV with max_depth={}, eta={}\".format(max_depth, eta))\n",
    "    \n",
    "    # Update parameters\n",
    "    param['max_depth'] = max_depth\n",
    "    param['eta'] = eta\n",
    "    \n",
    "    # Run CV\n",
    "    cv_results = xgb.cv(\n",
    "        params=param, \n",
    "        dtrain=dtrain,\n",
    "        num_boost_round=3000,\n",
    "        early_stopping_rounds=100,\n",
    "        nfold=5\n",
    "    )\n",
    "    \n",
    "    # Update best performance\n",
    "    mean_mlogloss = cv_results['test-mlogloss-mean'].min()\n",
    "    n_boost = cv_results['test-mlogloss-mean'].argmin()\n",
    "    print(\"\\tmlogloss {} for {} rounds\".format(mean_mlogloss, n_boost))\n",
    "    if mean_mlogloss < min_mlogloss:\n",
    "        min_mlogloss = mean_mlogloss\n",
    "        best_params = {'max_depth': max_depth, 'eta': eta, 'num_boost_round': int(n_boost+1)}"
   ]
  },
  {
   "cell_type": "markdown",
   "id": "d7bca48e4f6bc7a8",
   "metadata": {},
   "source": [
    "When max depth was equal to 4 and learning rate was equal to 0.01 it looks like the error never reached a saturation point up to 3000 boosting iterations, so we may consider increasing the numbering of rounds, but we should also keep in mind that any marginal gain in performance may not be worth the computation time required. \n"
   ]
  },
  {
   "cell_type": "code",
   "execution_count": 32,
   "id": "4c4fc5ec24026cb",
   "metadata": {
    "ExecuteTime": {
     "end_time": "2024-12-23T19:06:29.520284Z",
     "start_time": "2024-12-23T19:06:29.518162Z"
    }
   },
   "outputs": [
    {
     "name": "stdout",
     "output_type": "stream",
     "text": [
      "Best params: {'max_depth': 6, 'eta': 0.01, 'num_boost_round': 2411}\n"
     ]
    }
   ],
   "source": [
    "print(\"Best params:\", best_params)"
   ]
  },
  {
   "cell_type": "markdown",
   "id": "91a99abb6d7cf506",
   "metadata": {},
   "source": [
    "Let's train a model with these settings on the full training set (i.e. no cross-validation) and then evaluate performance on the test set. This takes about 1 minute to run."
   ]
  },
  {
   "cell_type": "code",
   "execution_count": 33,
   "id": "be7547cf0a986fc8",
   "metadata": {
    "ExecuteTime": {
     "end_time": "2024-12-23T19:07:24.678754Z",
     "start_time": "2024-12-23T19:06:29.644262Z"
    }
   },
   "outputs": [],
   "source": [
    "# update param dictionary with best settings\n",
    "param.update({k:v for k,v in best_params.items() if k in param.keys()})\n",
    "\n",
    "# final model\n",
    "best_classifier = xgb.train(params=param, dtrain=dtrain, \n",
    "                            num_boost_round=best_params['num_boost_round'])\n"
   ]
  },
  {
   "cell_type": "markdown",
   "id": "dcc2b24f2a7f5177",
   "metadata": {},
   "source": [
    "## Evaluate model"
   ]
  },
  {
   "cell_type": "code",
   "execution_count": 34,
   "id": "fe4932425a3bd8f1",
   "metadata": {
    "ExecuteTime": {
     "end_time": "2024-12-23T19:07:25.109408Z",
     "start_time": "2024-12-23T19:07:24.691425Z"
    }
   },
   "outputs": [],
   "source": [
    "from sklearn.metrics import (balanced_accuracy_score, accuracy_score,\n",
    "                             f1_score, precision_recall_fscore_support,\n",
    "                             matthews_corrcoef, confusion_matrix)\n",
    "\n",
    "# get class predictions on test set\n",
    "y_pred = best_classifier.predict(dtest)"
   ]
  },
  {
   "cell_type": "code",
   "execution_count": 35,
   "id": "632107ad4f43bcd3",
   "metadata": {
    "ExecuteTime": {
     "end_time": "2024-12-23T19:07:25.135021Z",
     "start_time": "2024-12-23T19:07:25.120838Z"
    }
   },
   "outputs": [
    {
     "data": {
      "text/html": [
       "<div>\n",
       "<style scoped>\n",
       "    .dataframe tbody tr th:only-of-type {\n",
       "        vertical-align: middle;\n",
       "    }\n",
       "\n",
       "    .dataframe tbody tr th {\n",
       "        vertical-align: top;\n",
       "    }\n",
       "\n",
       "    .dataframe thead th {\n",
       "        text-align: right;\n",
       "    }\n",
       "</style>\n",
       "<table border=\"1\" class=\"dataframe\">\n",
       "  <thead>\n",
       "    <tr style=\"text-align: right;\">\n",
       "      <th></th>\n",
       "      <th>maize</th>\n",
       "      <th>nonmaize_annual</th>\n",
       "      <th>nonmaize_perennial</th>\n",
       "      <th>rangeland</th>\n",
       "      <th>forest</th>\n",
       "      <th>wetland</th>\n",
       "      <th>water</th>\n",
       "      <th>structure</th>\n",
       "      <th>bare</th>\n",
       "    </tr>\n",
       "    <tr>\n",
       "      <th>actual/pred</th>\n",
       "      <th></th>\n",
       "      <th></th>\n",
       "      <th></th>\n",
       "      <th></th>\n",
       "      <th></th>\n",
       "      <th></th>\n",
       "      <th></th>\n",
       "      <th></th>\n",
       "      <th></th>\n",
       "    </tr>\n",
       "  </thead>\n",
       "  <tbody>\n",
       "    <tr>\n",
       "      <th>maize</th>\n",
       "      <td>676</td>\n",
       "      <td>1182</td>\n",
       "      <td>0</td>\n",
       "      <td>20</td>\n",
       "      <td>47</td>\n",
       "      <td>1</td>\n",
       "      <td>0</td>\n",
       "      <td>30</td>\n",
       "      <td>0</td>\n",
       "    </tr>\n",
       "    <tr>\n",
       "      <th>nonmaize_annual</th>\n",
       "      <td>365</td>\n",
       "      <td>3435</td>\n",
       "      <td>1</td>\n",
       "      <td>42</td>\n",
       "      <td>114</td>\n",
       "      <td>0</td>\n",
       "      <td>0</td>\n",
       "      <td>40</td>\n",
       "      <td>0</td>\n",
       "    </tr>\n",
       "    <tr>\n",
       "      <th>nonmaize_perennial</th>\n",
       "      <td>15</td>\n",
       "      <td>18</td>\n",
       "      <td>41</td>\n",
       "      <td>0</td>\n",
       "      <td>1</td>\n",
       "      <td>0</td>\n",
       "      <td>0</td>\n",
       "      <td>3</td>\n",
       "      <td>0</td>\n",
       "    </tr>\n",
       "    <tr>\n",
       "      <th>rangeland</th>\n",
       "      <td>15</td>\n",
       "      <td>211</td>\n",
       "      <td>0</td>\n",
       "      <td>371</td>\n",
       "      <td>29</td>\n",
       "      <td>1</td>\n",
       "      <td>0</td>\n",
       "      <td>2</td>\n",
       "      <td>0</td>\n",
       "    </tr>\n",
       "    <tr>\n",
       "      <th>forest</th>\n",
       "      <td>28</td>\n",
       "      <td>129</td>\n",
       "      <td>0</td>\n",
       "      <td>25</td>\n",
       "      <td>1461</td>\n",
       "      <td>18</td>\n",
       "      <td>0</td>\n",
       "      <td>0</td>\n",
       "      <td>0</td>\n",
       "    </tr>\n",
       "    <tr>\n",
       "      <th>wetland</th>\n",
       "      <td>0</td>\n",
       "      <td>2</td>\n",
       "      <td>0</td>\n",
       "      <td>2</td>\n",
       "      <td>22</td>\n",
       "      <td>536</td>\n",
       "      <td>1</td>\n",
       "      <td>0</td>\n",
       "      <td>0</td>\n",
       "    </tr>\n",
       "    <tr>\n",
       "      <th>water</th>\n",
       "      <td>0</td>\n",
       "      <td>0</td>\n",
       "      <td>0</td>\n",
       "      <td>0</td>\n",
       "      <td>2</td>\n",
       "      <td>8</td>\n",
       "      <td>606</td>\n",
       "      <td>0</td>\n",
       "      <td>0</td>\n",
       "    </tr>\n",
       "    <tr>\n",
       "      <th>structure</th>\n",
       "      <td>34</td>\n",
       "      <td>201</td>\n",
       "      <td>0</td>\n",
       "      <td>2</td>\n",
       "      <td>0</td>\n",
       "      <td>0</td>\n",
       "      <td>0</td>\n",
       "      <td>275</td>\n",
       "      <td>3</td>\n",
       "    </tr>\n",
       "    <tr>\n",
       "      <th>bare</th>\n",
       "      <td>0</td>\n",
       "      <td>0</td>\n",
       "      <td>0</td>\n",
       "      <td>0</td>\n",
       "      <td>0</td>\n",
       "      <td>0</td>\n",
       "      <td>0</td>\n",
       "      <td>2</td>\n",
       "      <td>72</td>\n",
       "    </tr>\n",
       "  </tbody>\n",
       "</table>\n",
       "</div>"
      ],
      "text/plain": [
       "                    maize  nonmaize_annual  nonmaize_perennial  rangeland  \\\n",
       "actual/pred                                                                 \n",
       "maize                 676             1182                   0         20   \n",
       "nonmaize_annual       365             3435                   1         42   \n",
       "nonmaize_perennial     15               18                  41          0   \n",
       "rangeland              15              211                   0        371   \n",
       "forest                 28              129                   0         25   \n",
       "wetland                 0                2                   0          2   \n",
       "water                   0                0                   0          0   \n",
       "structure              34              201                   0          2   \n",
       "bare                    0                0                   0          0   \n",
       "\n",
       "                    forest  wetland  water  structure  bare  \n",
       "actual/pred                                                  \n",
       "maize                   47        1      0         30     0  \n",
       "nonmaize_annual        114        0      0         40     0  \n",
       "nonmaize_perennial       1        0      0          3     0  \n",
       "rangeland               29        1      0          2     0  \n",
       "forest                1461       18      0          0     0  \n",
       "wetland                 22      536      1          0     0  \n",
       "water                    2        8    606          0     0  \n",
       "structure                0        0      0        275     3  \n",
       "bare                     0        0      0          2    72  "
      ]
     },
     "execution_count": 35,
     "metadata": {},
     "output_type": "execute_result"
    }
   ],
   "source": [
    "# confusion matrix\n",
    "cm = confusion_matrix(y_test, y_pred)\n",
    "land_cover_classes = data['land_cover_class'].cat.categories.tolist()\n",
    "\n",
    "cm_pd = pd.DataFrame(cm, index=land_cover_classes, columns=land_cover_classes).rename_axis(\"actual/pred\")\n",
    "cm_pd"
   ]
  },
  {
   "cell_type": "markdown",
   "id": "581b4e220ed0dfe9",
   "metadata": {},
   "source": [
    "What is maize cover most commonly mistaken as? Which categories is it most easily differentiated from?"
   ]
  },
  {
   "cell_type": "code",
   "execution_count": 36,
   "id": "c65c8e98e9eee572",
   "metadata": {
    "ExecuteTime": {
     "end_time": "2024-12-23T19:07:25.171458Z",
     "start_time": "2024-12-23T19:07:25.162261Z"
    }
   },
   "outputs": [
    {
     "data": {
      "text/html": [
       "<div>\n",
       "<style scoped>\n",
       "    .dataframe tbody tr th:only-of-type {\n",
       "        vertical-align: middle;\n",
       "    }\n",
       "\n",
       "    .dataframe tbody tr th {\n",
       "        vertical-align: top;\n",
       "    }\n",
       "\n",
       "    .dataframe thead th {\n",
       "        text-align: right;\n",
       "    }\n",
       "</style>\n",
       "<table border=\"1\" class=\"dataframe\">\n",
       "  <thead>\n",
       "    <tr style=\"text-align: right;\">\n",
       "      <th></th>\n",
       "      <th>overall</th>\n",
       "    </tr>\n",
       "  </thead>\n",
       "  <tbody>\n",
       "    <tr>\n",
       "      <th>balanced_accuracy</th>\n",
       "      <td>0.74</td>\n",
       "    </tr>\n",
       "    <tr>\n",
       "      <th>weighted_f1_score</th>\n",
       "      <td>0.73</td>\n",
       "    </tr>\n",
       "    <tr>\n",
       "      <th>mcc</th>\n",
       "      <td>0.66</td>\n",
       "    </tr>\n",
       "  </tbody>\n",
       "</table>\n",
       "</div>"
      ],
      "text/plain": [
       "                   overall\n",
       "balanced_accuracy     0.74\n",
       "weighted_f1_score     0.73\n",
       "mcc                   0.66"
      ]
     },
     "execution_count": 36,
     "metadata": {},
     "output_type": "execute_result"
    }
   ],
   "source": [
    "# overall performance considering all land cover types\n",
    "overall_eval = pd.DataFrame(data=np.array([    \n",
    "    balanced_accuracy_score(y_test, y_pred),\n",
    "    f1_score(y_test, y_pred, average='weighted'),\n",
    "    matthews_corrcoef(y_test, y_pred)]),\n",
    "    columns = [\"overall\"], index= ['balanced_accuracy', 'weighted_f1_score', 'mcc'])\n",
    "overall_eval"
   ]
  },
  {
   "cell_type": "code",
   "execution_count": 37,
   "id": "90b903ccae358809",
   "metadata": {
    "ExecuteTime": {
     "end_time": "2024-12-23T19:07:25.214617Z",
     "start_time": "2024-12-23T19:07:25.204211Z"
    }
   },
   "outputs": [
    {
     "data": {
      "text/html": [
       "<div>\n",
       "<style scoped>\n",
       "    .dataframe tbody tr th:only-of-type {\n",
       "        vertical-align: middle;\n",
       "    }\n",
       "\n",
       "    .dataframe tbody tr th {\n",
       "        vertical-align: top;\n",
       "    }\n",
       "\n",
       "    .dataframe thead th {\n",
       "        text-align: right;\n",
       "    }\n",
       "</style>\n",
       "<table border=\"1\" class=\"dataframe\">\n",
       "  <thead>\n",
       "    <tr style=\"text-align: right;\">\n",
       "      <th></th>\n",
       "      <th>maize</th>\n",
       "      <th>nonmaize_annual</th>\n",
       "      <th>nonmaize_perennial</th>\n",
       "      <th>rangeland</th>\n",
       "      <th>forest</th>\n",
       "      <th>wetland</th>\n",
       "      <th>water</th>\n",
       "      <th>structure</th>\n",
       "      <th>bare</th>\n",
       "    </tr>\n",
       "  </thead>\n",
       "  <tbody>\n",
       "    <tr>\n",
       "      <th>accuracy</th>\n",
       "      <td>0.83</td>\n",
       "      <td>0.77</td>\n",
       "      <td>1.00</td>\n",
       "      <td>0.97</td>\n",
       "      <td>0.96</td>\n",
       "      <td>0.99</td>\n",
       "      <td>1.00</td>\n",
       "      <td>0.97</td>\n",
       "      <td>1.00</td>\n",
       "    </tr>\n",
       "    <tr>\n",
       "      <th>precision</th>\n",
       "      <td>0.60</td>\n",
       "      <td>0.66</td>\n",
       "      <td>0.98</td>\n",
       "      <td>0.80</td>\n",
       "      <td>0.87</td>\n",
       "      <td>0.95</td>\n",
       "      <td>1.00</td>\n",
       "      <td>0.78</td>\n",
       "      <td>0.96</td>\n",
       "    </tr>\n",
       "    <tr>\n",
       "      <th>recall</th>\n",
       "      <td>0.35</td>\n",
       "      <td>0.86</td>\n",
       "      <td>0.53</td>\n",
       "      <td>0.59</td>\n",
       "      <td>0.88</td>\n",
       "      <td>0.95</td>\n",
       "      <td>0.98</td>\n",
       "      <td>0.53</td>\n",
       "      <td>0.97</td>\n",
       "    </tr>\n",
       "    <tr>\n",
       "      <th>f1_score</th>\n",
       "      <td>0.44</td>\n",
       "      <td>0.75</td>\n",
       "      <td>0.68</td>\n",
       "      <td>0.68</td>\n",
       "      <td>0.88</td>\n",
       "      <td>0.95</td>\n",
       "      <td>0.99</td>\n",
       "      <td>0.63</td>\n",
       "      <td>0.97</td>\n",
       "    </tr>\n",
       "    <tr>\n",
       "      <th>n</th>\n",
       "      <td>1956.00</td>\n",
       "      <td>3997.00</td>\n",
       "      <td>78.00</td>\n",
       "      <td>629.00</td>\n",
       "      <td>1661.00</td>\n",
       "      <td>563.00</td>\n",
       "      <td>616.00</td>\n",
       "      <td>515.00</td>\n",
       "      <td>74.00</td>\n",
       "    </tr>\n",
       "  </tbody>\n",
       "</table>\n",
       "</div>"
      ],
      "text/plain": [
       "            maize  nonmaize_annual  nonmaize_perennial  rangeland  forest  \\\n",
       "accuracy     0.83             0.77                1.00       0.97    0.96   \n",
       "precision    0.60             0.66                0.98       0.80    0.87   \n",
       "recall       0.35             0.86                0.53       0.59    0.88   \n",
       "f1_score     0.44             0.75                0.68       0.68    0.88   \n",
       "n         1956.00          3997.00               78.00     629.00 1661.00   \n",
       "\n",
       "           wetland  water  structure  bare  \n",
       "accuracy      0.99   1.00       0.97  1.00  \n",
       "precision     0.95   1.00       0.78  0.96  \n",
       "recall        0.95   0.98       0.53  0.97  \n",
       "f1_score      0.95   0.99       0.63  0.97  \n",
       "n           563.00 616.00     515.00 74.00  "
      ]
     },
     "execution_count": 37,
     "metadata": {},
     "output_type": "execute_result"
    }
   ],
   "source": [
    "# performance by land cover class\n",
    "eval_by_class = pd.DataFrame(data = np.concatenate([\n",
    "    np.expand_dims(np.array([accuracy_score(np.array(y_test) == i, np.array(y_pred) == i) for i, name in enumerate(land_cover_classes)]), 0),\n",
    "    np.vstack(precision_recall_fscore_support(y_test, y_pred, average=None))], axis=0),\n",
    "             columns = land_cover_classes,\n",
    "             index = ['accuracy', 'precision', 'recall', 'f1_score', 'n'])\n",
    "eval_by_class"
   ]
  },
  {
   "cell_type": "code",
   "execution_count": 38,
   "id": "c1e30840f3f66918",
   "metadata": {
    "ExecuteTime": {
     "end_time": "2024-12-23T19:07:25.507343Z",
     "start_time": "2024-12-23T19:07:25.276182Z"
    }
   },
   "outputs": [
    {
     "data": {
      "image/png": "[encoded data removed]",
      "text/plain": [
       "<Figure size 640x480 with 1 Axes>"
      ]
     },
     "metadata": {},
     "output_type": "display_data"
    }
   ],
   "source": [
    "# variable importance plot\n",
    "xgb.plot_importance(best_classifier)\n",
    "plt.show()"
   ]
  },
  {
   "cell_type": "markdown",
   "id": "8efcb2aa2a5dadbe",
   "metadata": {},
   "source": [
    "Which predictors were most informative? Which spectral information was most informative? Can you imagine why these features would be most predictive of land cover class? Keep in mind this is for all land cover classes, not just crops/vegetation. "
   ]
  },
  {
   "cell_type": "markdown",
   "id": "45a6e68c5151df9d",
   "metadata": {},
   "source": [
    "## Assignment\n",
    "\n",
    "How could you improve the prediction of land cover class, and specifically maize? Would you choose different variables? continue to fine tune hyperparameters? use a loss function that optimizes performance for maize class? try a different model? So many options! And it's your turn to find out! \n",
    "\n",
    "If you are, instead, satisified with the performance of this model and want to predict crop yields, you can use the data provided in `training_data_for_yield.csv` and update this workflow to predict maize yields, a continuous outcome measure. "
   ]
  }
 ],
 "metadata": {
  "kernelspec": {
   "display_name": "crop_classifier",
   "language": "python",
   "name": "python3"
  },
  "language_info": {
   "codemirror_mode": {
    "name": "ipython",
    "version": 2
   },
   "file_extension": ".py",
   "mimetype": "text/x-python",
   "name": "python",
   "nbconvert_exporter": "python",
   "pygments_lexer": "ipython2",
   "version": "3.12.8"
  }
 },
 "nbformat": 4,
 "nbformat_minor": 5
}
