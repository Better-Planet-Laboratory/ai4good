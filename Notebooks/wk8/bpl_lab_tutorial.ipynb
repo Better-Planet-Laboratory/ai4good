{
 "cells": [
  {
   "metadata": {},
   "cell_type": "markdown",
   "source": [
    "# BPL Lab Meeting, 18 November 2024\n",
    "## Environmental Rights Chatbot\n",
    "\n",
    "First let's check out the project [README.md](https://github.com/Better-Planet-Laboratory/erv_chatbot) for information about the objective of the chatbot and data sources.\n",
    "\n",
    "Next steps: \n",
    "1) Prepare data and load dataset(s) into SQL database\n",
    "2) Define unit tests\n",
    "3) Build LLM\n",
    "4) Run LLM on possible queries\n",
    "\n",
    "\n"
   ],
   "id": "b3f8798df5fbdde5"
  },
  {
   "metadata": {},
   "cell_type": "markdown",
   "source": [
    "### 1) Load dataset(s) into SQL database\n",
    "\n",
    "Resources: \n",
    "* https://python.langchain.com/docs/how_to/sql_csv/#sql"
   ],
   "id": "4395db52b35da41f"
  },
  {
   "metadata": {
    "ExecuteTime": {
     "end_time": "2024-11-15T17:46:28.437506Z",
     "start_time": "2024-11-15T17:46:24.259369Z"
    }
   },
   "cell_type": "code",
   "source": [
    "import os\n",
    "from pathlib import Path\n",
    "import pandas as pd\n",
    "import geopandas as gpd\n",
    "import rasterio as rio\n",
    "from rasterstats import zonal_stats\n",
    "from langchain_community.utilities import SQLDatabase\n",
    "from sqlalchemy import create_engine\n",
    "\n",
    "base_path = Path(os.getcwd()).parent\n",
    "os.chdir(base_path)"
   ],
   "id": "dfeafc8912e1e76d",
   "outputs": [],
   "execution_count": 1
  },
  {
   "metadata": {
    "ExecuteTime": {
     "end_time": "2024-11-15T17:46:31.059198Z",
     "start_time": "2024-11-15T17:46:31.054911Z"
    }
   },
   "cell_type": "code",
   "source": [
    "# Functions\n",
    "\n",
    "# Pretty print of dfs\n",
    "def printdf(df: pd.DataFrame, num_rows: int=5, ignore_geometry: bool = True):\n",
    "    if hasattr(df, 'geometry') and ignore_geometry:\n",
    "        df = df[[col for col in df.columns if col!='geometry']]\n",
    "    print(df.head(num_rows).to_string())\n",
    "\n",
    "# Calculate zonal statistics in every polygon\n",
    "def calculate_zonal_stats(list_of_stats: list, geodata_path: Path, raster_path: Path, save_csv_path: Path = None):\n",
    "\n",
    "    # Load data\n",
    "    polygons = gpd.read_file(geodata_path)\n",
    "    with rio.open(raster_path) as src:\n",
    "        if src.crs != polygons.crs:\n",
    "            polygons = polygons.to_crs(src.crs)  # align CRS, if appplicable\n",
    "        raster = src.read(1)\n",
    "        affine = src.transform\n",
    "        nodata_value = src.nodata\n",
    "\n",
    "    # Calculate\n",
    "    stats = zonal_stats(polygons, raster,\n",
    "                        stats=list_of_stats,\n",
    "                        affine=affine, nodata=nodata_value)\n",
    "\n",
    "    # Reattach to original data\n",
    "    polygon_x_raster = pd.concat([\n",
    "        pd.DataFrame(polygons.drop(columns='geometry')),  # drop geometry to reduce size of dataset\n",
    "        pd.DataFrame(stats)],\n",
    "        axis=1)\n",
    "\n",
    "    # Export, if requested\n",
    "    if save_csv_path is not None:\n",
    "        polygon_x_raster.to_csv(save_csv_path, index=False)\n",
    "\n",
    "    return(polygon_x_raster)\n",
    "\n",
    "# Load data to SQL with LangChain\n",
    "def data_to_sql(df, name_of_database: str, if_exists_replace: bool = False):\n",
    "    database_path = f'data/{name_of_database}.db'\n",
    "    engine = create_engine(f'sqlite:///{database_path}')\n",
    "    if not Path(database_path).exists() or if_exists_replace is True:\n",
    "        df.to_sql(name_of_database, engine, if_exists='replace')\n",
    "    db = SQLDatabase(engine=engine)\n",
    "\n",
    "    return db"
   ],
   "id": "744d5a49dc3acbde",
   "outputs": [],
   "execution_count": 2
  },
  {
   "metadata": {
    "ExecuteTime": {
     "end_time": "2024-11-15T17:46:35.174257Z",
     "start_time": "2024-11-15T17:46:32.846440Z"
    }
   },
   "cell_type": "code",
   "source": [
    "# Data\n",
    "stats = ['mean', 'max', 'min', 'median', 'std']\n",
    "df = calculate_zonal_stats(\n",
    "    list_of_stats=stats,\n",
    "    geodata_path=Path('data/input/WB_countries_Admin0_10m/'),\n",
    "    raster_path=Path('data/input/airQuality.tif')\n",
    ")\n",
    "df = df[['WB_NAME', 'CONTINENT'] + stats]\n",
    "db = data_to_sql(df = df, name_of_database = 'airxcntry', if_exists_replace = False)"
   ],
   "id": "50de0d1203db238e",
   "outputs": [],
   "execution_count": 3
  },
  {
   "metadata": {
    "ExecuteTime": {
     "end_time": "2024-11-15T17:46:43.425693Z",
     "start_time": "2024-11-15T17:46:43.422501Z"
    }
   },
   "cell_type": "code",
   "source": "printdf(df)",
   "id": "54a57c63043c7b92",
   "outputs": [
    {
     "name": "stdout",
     "output_type": "stream",
     "text": [
      "     WB_NAME      CONTINENT       mean        max   min  median       std\n",
      "0  Indonesia           Asia  14.905112  36.920002  6.76   14.26  3.897446\n",
      "1   Malaysia           Asia  12.393976  22.320000  7.04   12.22  2.588654\n",
      "2      Chile  South America  16.120725  35.599998  4.16   15.10  5.632093\n",
      "3    Bolivia  South America  28.121455  43.380001  6.92   29.52  8.072599\n",
      "4       Peru  South America  27.543493  43.840000  4.66   28.26  8.422236\n"
     ]
    }
   ],
   "execution_count": 4
  },
  {
   "metadata": {},
   "cell_type": "markdown",
   "source": "### 2) Define unit tests",
   "id": "3cdc3f89eb1b5dbf"
  },
  {
   "metadata": {
    "ExecuteTime": {
     "end_time": "2024-11-15T17:46:46.894357Z",
     "start_time": "2024-11-15T17:46:46.892551Z"
    }
   },
   "cell_type": "code",
   "source": [
    "# Potential queries\n",
    "q_simple = \"What is the average and standard deviation of air quality in Indonesia?\"\n",
    "q_relative = \"Which five countries have the worst air quality?\"\n",
    "q_summarize = \"What is the average air quality on each continent?\"\n",
    "q_filter = \"In how many countries did maximum air quality surpass 100 micrograms per cubic meter?\""
   ],
   "id": "d8f72fb1315618ed",
   "outputs": [],
   "execution_count": 5
  },
  {
   "metadata": {
    "ExecuteTime": {
     "end_time": "2024-11-15T17:46:49.124245Z",
     "start_time": "2024-11-15T17:46:49.110566Z"
    }
   },
   "cell_type": "code",
   "source": [
    "# Manually find answers from dataframe\n",
    "answer_key = {}\n",
    "\n",
    "# 1) \"What is the average and standard deviation of air quality in Indonesia?\"\n",
    "answer_key = answer_key | {\n",
    "    'q_simple': [df[df['WB_NAME'] == \"Indonesia\"][['mean', 'std']].round(2).to_dict('records')]\n",
    "}\n",
    "\n",
    "# 2) \"Which five countries have the worst air quality?\"\n",
    "answer_key = answer_key | {\n",
    "    'q_relative': df.sort_values('mean', ascending=False).head(5)['WB_NAME'].values.tolist()\n",
    "}\n",
    "\n",
    "# 3) \"What is the average air quality on each continent?\"\n",
    "answer_key = answer_key | {\n",
    "    'q_summarize': [df.groupby('CONTINENT')['mean'].mean().round(2).to_dict()]\n",
    "}\n",
    "\n",
    "# 4) \"In how many countries did maximum air quality surpass 100 micrograms per cubic meter?\"\n",
    "answer_key = answer_key | {\n",
    "    'q_filter': df[df['max'] > 100]['WB_NAME'].count()\n",
    "}\n"
   ],
   "id": "e972471e84fb72aa",
   "outputs": [],
   "execution_count": 6
  },
  {
   "metadata": {
    "ExecuteTime": {
     "end_time": "2024-11-15T17:46:50.443719Z",
     "start_time": "2024-11-15T17:46:50.439126Z"
    }
   },
   "cell_type": "code",
   "source": "answer_key",
   "id": "6dec75c76bb01e9f",
   "outputs": [
    {
     "data": {
      "text/plain": [
       "{'q_simple': [[{'mean': 14.91, 'std': 3.9}]],\n",
       " 'q_relative': ['Qatar',\n",
       "  'Bangladesh',\n",
       "  'Nigeria',\n",
       "  'Saudi Arabia',\n",
       "  'United Arab Emirates'],\n",
       " 'q_summarize': [{'Africa': 29.7,\n",
       "   'Asia': 31.31,\n",
       "   'Europe': 12.78,\n",
       "   'North America': 11.88,\n",
       "   'Oceania': 5.72,\n",
       "   'Seven seas (open ocean)': 7.44,\n",
       "   'South America': 17.68}],\n",
       " 'q_filter': 10}"
      ]
     },
     "execution_count": 7,
     "metadata": {},
     "output_type": "execute_result"
    }
   ],
   "execution_count": 7
  },
  {
   "metadata": {},
   "cell_type": "markdown",
   "source": [
    "### 3) Build LLM\n",
    "\n",
    "Resources:\n",
    "* https://python.langchain.com/docs/tutorials/sql_qa\n",
    "\n",
    "We will eventually chain together agents that a) turn question into SQL query, b) run that SQL query, and c) return SQL result using a natural language response; but first let's explore each agent in turn."
   ],
   "id": "8996954f5026f707"
  },
  {
   "metadata": {
    "ExecuteTime": {
     "end_time": "2024-11-15T17:46:54.319690Z",
     "start_time": "2024-11-15T17:46:53.147545Z"
    }
   },
   "cell_type": "code",
   "source": [
    "from langchain_ollama import ChatOllama\n",
    "from langchain.chains import create_sql_query_chain\n",
    "from langchain_core.prompts import PromptTemplate\n",
    "from langchain_community.tools.sql_database.tool import QuerySQLDataBaseTool\n",
    "from operator import itemgetter\n",
    "from langchain_core.output_parsers import StrOutputParser\n",
    "from langchain_core.runnables import RunnablePassthrough"
   ],
   "id": "4a70c4f591bc50a3",
   "outputs": [],
   "execution_count": 8
  },
  {
   "metadata": {
    "ExecuteTime": {
     "end_time": "2024-11-15T17:46:54.957736Z",
     "start_time": "2024-11-15T17:46:54.935200Z"
    }
   },
   "cell_type": "code",
   "source": [
    "# Load model\n",
    "model = ChatOllama(model=\"llama3.1\", seed=123)"
   ],
   "id": "d5f2a03fa380c226",
   "outputs": [],
   "execution_count": 9
  },
  {
   "metadata": {},
   "cell_type": "markdown",
   "source": "#### a) Generate SQL query",
   "id": "4528bde91c2ed432"
  },
  {
   "metadata": {
    "ExecuteTime": {
     "end_time": "2024-11-15T17:47:07.419996Z",
     "start_time": "2024-11-15T17:46:58.270893Z"
    }
   },
   "cell_type": "code",
   "source": [
    "# a) Generate SQL query (default)\n",
    "sql_agent_default = create_sql_query_chain(model, db)\n",
    "sql_code_default = sql_agent_default.invoke({\"question\": q_simple})\n",
    "print(sql_code_default)"
   ],
   "id": "a8f73c40ef6b3683",
   "outputs": [
    {
     "name": "stdout",
     "output_type": "stream",
     "text": [
      "Question: What is the average and standard deviation of air quality in Indonesia?\n",
      "SQLQuery: SELECT \"mean\", \"std\" FROM airxcntry WHERE \"WB_NAME\" = 'Indonesia\n"
     ]
    }
   ],
   "execution_count": 10
  },
  {
   "metadata": {},
   "cell_type": "markdown",
   "source": "##### Can anyone identify whether this SQL query run successfully? Let's find out...",
   "id": "c952826bbe66ffa0"
  },
  {
   "metadata": {
    "ExecuteTime": {
     "end_time": "2024-11-15T17:47:51.223169Z",
     "start_time": "2024-11-15T17:47:50.413001Z"
    }
   },
   "cell_type": "code",
   "source": "db.run(sql_code_default)",
   "id": "1b2a1ac2f2b66577",
   "outputs": [
    {
     "ename": "OperationalError",
     "evalue": "(sqlite3.OperationalError) near \"Question\": syntax error\n[SQL: Question: What is the average and standard deviation of air quality in Indonesia?\nSQLQuery: SELECT \"mean\", \"std\" FROM airxcntry WHERE \"WB_NAME\" = 'Indonesia]\n(Background on this error at: https://sqlalche.me/e/20/e3q8)",
     "output_type": "error",
     "traceback": [
      "\u001B[0;31m---------------------------------------------------------------------------\u001B[0m",
      "\u001B[0;31mOperationalError\u001B[0m                          Traceback (most recent call last)",
      "File \u001B[0;32m~/miniconda3/envs/bpl_chatbot/lib/python3.12/site-packages/sqlalchemy/engine/base.py:1967\u001B[0m, in \u001B[0;36mConnection._exec_single_context\u001B[0;34m(self, dialect, context, statement, parameters)\u001B[0m\n\u001B[1;32m   1966\u001B[0m     \u001B[38;5;28;01mif\u001B[39;00m \u001B[38;5;129;01mnot\u001B[39;00m evt_handled:\n\u001B[0;32m-> 1967\u001B[0m         \u001B[38;5;28;43mself\u001B[39;49m\u001B[38;5;241;43m.\u001B[39;49m\u001B[43mdialect\u001B[49m\u001B[38;5;241;43m.\u001B[39;49m\u001B[43mdo_execute\u001B[49m\u001B[43m(\u001B[49m\n\u001B[1;32m   1968\u001B[0m \u001B[43m            \u001B[49m\u001B[43mcursor\u001B[49m\u001B[43m,\u001B[49m\u001B[43m \u001B[49m\u001B[43mstr_statement\u001B[49m\u001B[43m,\u001B[49m\u001B[43m \u001B[49m\u001B[43meffective_parameters\u001B[49m\u001B[43m,\u001B[49m\u001B[43m \u001B[49m\u001B[43mcontext\u001B[49m\n\u001B[1;32m   1969\u001B[0m \u001B[43m        \u001B[49m\u001B[43m)\u001B[49m\n\u001B[1;32m   1971\u001B[0m \u001B[38;5;28;01mif\u001B[39;00m \u001B[38;5;28mself\u001B[39m\u001B[38;5;241m.\u001B[39m_has_events \u001B[38;5;129;01mor\u001B[39;00m \u001B[38;5;28mself\u001B[39m\u001B[38;5;241m.\u001B[39mengine\u001B[38;5;241m.\u001B[39m_has_events:\n",
      "File \u001B[0;32m~/miniconda3/envs/bpl_chatbot/lib/python3.12/site-packages/sqlalchemy/engine/default.py:941\u001B[0m, in \u001B[0;36mDefaultDialect.do_execute\u001B[0;34m(self, cursor, statement, parameters, context)\u001B[0m\n\u001B[1;32m    940\u001B[0m \u001B[38;5;28;01mdef\u001B[39;00m \u001B[38;5;21mdo_execute\u001B[39m(\u001B[38;5;28mself\u001B[39m, cursor, statement, parameters, context\u001B[38;5;241m=\u001B[39m\u001B[38;5;28;01mNone\u001B[39;00m):\n\u001B[0;32m--> 941\u001B[0m     \u001B[43mcursor\u001B[49m\u001B[38;5;241;43m.\u001B[39;49m\u001B[43mexecute\u001B[49m\u001B[43m(\u001B[49m\u001B[43mstatement\u001B[49m\u001B[43m,\u001B[49m\u001B[43m \u001B[49m\u001B[43mparameters\u001B[49m\u001B[43m)\u001B[49m\n",
      "\u001B[0;31mOperationalError\u001B[0m: near \"Question\": syntax error",
      "\nThe above exception was the direct cause of the following exception:\n",
      "\u001B[0;31mOperationalError\u001B[0m                          Traceback (most recent call last)",
      "Cell \u001B[0;32mIn[11], line 1\u001B[0m\n\u001B[0;32m----> 1\u001B[0m \u001B[43mdb\u001B[49m\u001B[38;5;241;43m.\u001B[39;49m\u001B[43mrun\u001B[49m\u001B[43m(\u001B[49m\u001B[43msql_code_default\u001B[49m\u001B[43m)\u001B[49m\n",
      "File \u001B[0;32m~/miniconda3/envs/bpl_chatbot/lib/python3.12/site-packages/langchain_community/utilities/sql_database.py:502\u001B[0m, in \u001B[0;36mSQLDatabase.run\u001B[0;34m(self, command, fetch, include_columns, parameters, execution_options)\u001B[0m\n\u001B[1;32m    488\u001B[0m \u001B[38;5;28;01mdef\u001B[39;00m \u001B[38;5;21mrun\u001B[39m(\n\u001B[1;32m    489\u001B[0m     \u001B[38;5;28mself\u001B[39m,\n\u001B[1;32m    490\u001B[0m     command: Union[\u001B[38;5;28mstr\u001B[39m, Executable],\n\u001B[0;32m   (...)\u001B[0m\n\u001B[1;32m    495\u001B[0m     execution_options: Optional[Dict[\u001B[38;5;28mstr\u001B[39m, Any]] \u001B[38;5;241m=\u001B[39m \u001B[38;5;28;01mNone\u001B[39;00m,\n\u001B[1;32m    496\u001B[0m ) \u001B[38;5;241m-\u001B[39m\u001B[38;5;241m>\u001B[39m Union[\u001B[38;5;28mstr\u001B[39m, Sequence[Dict[\u001B[38;5;28mstr\u001B[39m, Any]], Result[Any]]:\n\u001B[1;32m    497\u001B[0m \u001B[38;5;250m    \u001B[39m\u001B[38;5;124;03m\"\"\"Execute a SQL command and return a string representing the results.\u001B[39;00m\n\u001B[1;32m    498\u001B[0m \n\u001B[1;32m    499\u001B[0m \u001B[38;5;124;03m    If the statement returns rows, a string of the results is returned.\u001B[39;00m\n\u001B[1;32m    500\u001B[0m \u001B[38;5;124;03m    If the statement returns no rows, an empty string is returned.\u001B[39;00m\n\u001B[1;32m    501\u001B[0m \u001B[38;5;124;03m    \"\"\"\u001B[39;00m\n\u001B[0;32m--> 502\u001B[0m     result \u001B[38;5;241m=\u001B[39m \u001B[38;5;28;43mself\u001B[39;49m\u001B[38;5;241;43m.\u001B[39;49m\u001B[43m_execute\u001B[49m\u001B[43m(\u001B[49m\n\u001B[1;32m    503\u001B[0m \u001B[43m        \u001B[49m\u001B[43mcommand\u001B[49m\u001B[43m,\u001B[49m\u001B[43m \u001B[49m\u001B[43mfetch\u001B[49m\u001B[43m,\u001B[49m\u001B[43m \u001B[49m\u001B[43mparameters\u001B[49m\u001B[38;5;241;43m=\u001B[39;49m\u001B[43mparameters\u001B[49m\u001B[43m,\u001B[49m\u001B[43m \u001B[49m\u001B[43mexecution_options\u001B[49m\u001B[38;5;241;43m=\u001B[39;49m\u001B[43mexecution_options\u001B[49m\n\u001B[1;32m    504\u001B[0m \u001B[43m    \u001B[49m\u001B[43m)\u001B[49m\n\u001B[1;32m    506\u001B[0m     \u001B[38;5;28;01mif\u001B[39;00m fetch \u001B[38;5;241m==\u001B[39m \u001B[38;5;124m\"\u001B[39m\u001B[38;5;124mcursor\u001B[39m\u001B[38;5;124m\"\u001B[39m:\n\u001B[1;32m    507\u001B[0m         \u001B[38;5;28;01mreturn\u001B[39;00m result\n",
      "File \u001B[0;32m~/miniconda3/envs/bpl_chatbot/lib/python3.12/site-packages/langchain_community/utilities/sql_database.py:467\u001B[0m, in \u001B[0;36mSQLDatabase._execute\u001B[0;34m(self, command, fetch, parameters, execution_options)\u001B[0m\n\u001B[1;32m    465\u001B[0m \u001B[38;5;28;01melse\u001B[39;00m:\n\u001B[1;32m    466\u001B[0m     \u001B[38;5;28;01mraise\u001B[39;00m \u001B[38;5;167;01mTypeError\u001B[39;00m(\u001B[38;5;124mf\u001B[39m\u001B[38;5;124m\"\u001B[39m\u001B[38;5;124mQuery expression has unknown type: \u001B[39m\u001B[38;5;132;01m{\u001B[39;00m\u001B[38;5;28mtype\u001B[39m(command)\u001B[38;5;132;01m}\u001B[39;00m\u001B[38;5;124m\"\u001B[39m)\n\u001B[0;32m--> 467\u001B[0m cursor \u001B[38;5;241m=\u001B[39m \u001B[43mconnection\u001B[49m\u001B[38;5;241;43m.\u001B[39;49m\u001B[43mexecute\u001B[49m\u001B[43m(\u001B[49m\n\u001B[1;32m    468\u001B[0m \u001B[43m    \u001B[49m\u001B[43mcommand\u001B[49m\u001B[43m,\u001B[49m\n\u001B[1;32m    469\u001B[0m \u001B[43m    \u001B[49m\u001B[43mparameters\u001B[49m\u001B[43m,\u001B[49m\n\u001B[1;32m    470\u001B[0m \u001B[43m    \u001B[49m\u001B[43mexecution_options\u001B[49m\u001B[38;5;241;43m=\u001B[39;49m\u001B[43mexecution_options\u001B[49m\u001B[43m,\u001B[49m\n\u001B[1;32m    471\u001B[0m \u001B[43m\u001B[49m\u001B[43m)\u001B[49m\n\u001B[1;32m    473\u001B[0m \u001B[38;5;28;01mif\u001B[39;00m cursor\u001B[38;5;241m.\u001B[39mreturns_rows:\n\u001B[1;32m    474\u001B[0m     \u001B[38;5;28;01mif\u001B[39;00m fetch \u001B[38;5;241m==\u001B[39m \u001B[38;5;124m\"\u001B[39m\u001B[38;5;124mall\u001B[39m\u001B[38;5;124m\"\u001B[39m:\n",
      "File \u001B[0;32m~/miniconda3/envs/bpl_chatbot/lib/python3.12/site-packages/sqlalchemy/engine/base.py:1418\u001B[0m, in \u001B[0;36mConnection.execute\u001B[0;34m(self, statement, parameters, execution_options)\u001B[0m\n\u001B[1;32m   1416\u001B[0m     \u001B[38;5;28;01mraise\u001B[39;00m exc\u001B[38;5;241m.\u001B[39mObjectNotExecutableError(statement) \u001B[38;5;28;01mfrom\u001B[39;00m \u001B[38;5;21;01merr\u001B[39;00m\n\u001B[1;32m   1417\u001B[0m \u001B[38;5;28;01melse\u001B[39;00m:\n\u001B[0;32m-> 1418\u001B[0m     \u001B[38;5;28;01mreturn\u001B[39;00m \u001B[43mmeth\u001B[49m\u001B[43m(\u001B[49m\n\u001B[1;32m   1419\u001B[0m \u001B[43m        \u001B[49m\u001B[38;5;28;43mself\u001B[39;49m\u001B[43m,\u001B[49m\n\u001B[1;32m   1420\u001B[0m \u001B[43m        \u001B[49m\u001B[43mdistilled_parameters\u001B[49m\u001B[43m,\u001B[49m\n\u001B[1;32m   1421\u001B[0m \u001B[43m        \u001B[49m\u001B[43mexecution_options\u001B[49m\u001B[43m \u001B[49m\u001B[38;5;129;43;01mor\u001B[39;49;00m\u001B[43m \u001B[49m\u001B[43mNO_OPTIONS\u001B[49m\u001B[43m,\u001B[49m\n\u001B[1;32m   1422\u001B[0m \u001B[43m    \u001B[49m\u001B[43m)\u001B[49m\n",
      "File \u001B[0;32m~/miniconda3/envs/bpl_chatbot/lib/python3.12/site-packages/sqlalchemy/sql/elements.py:515\u001B[0m, in \u001B[0;36mClauseElement._execute_on_connection\u001B[0;34m(self, connection, distilled_params, execution_options)\u001B[0m\n\u001B[1;32m    513\u001B[0m     \u001B[38;5;28;01mif\u001B[39;00m TYPE_CHECKING:\n\u001B[1;32m    514\u001B[0m         \u001B[38;5;28;01massert\u001B[39;00m \u001B[38;5;28misinstance\u001B[39m(\u001B[38;5;28mself\u001B[39m, Executable)\n\u001B[0;32m--> 515\u001B[0m     \u001B[38;5;28;01mreturn\u001B[39;00m \u001B[43mconnection\u001B[49m\u001B[38;5;241;43m.\u001B[39;49m\u001B[43m_execute_clauseelement\u001B[49m\u001B[43m(\u001B[49m\n\u001B[1;32m    516\u001B[0m \u001B[43m        \u001B[49m\u001B[38;5;28;43mself\u001B[39;49m\u001B[43m,\u001B[49m\u001B[43m \u001B[49m\u001B[43mdistilled_params\u001B[49m\u001B[43m,\u001B[49m\u001B[43m \u001B[49m\u001B[43mexecution_options\u001B[49m\n\u001B[1;32m    517\u001B[0m \u001B[43m    \u001B[49m\u001B[43m)\u001B[49m\n\u001B[1;32m    518\u001B[0m \u001B[38;5;28;01melse\u001B[39;00m:\n\u001B[1;32m    519\u001B[0m     \u001B[38;5;28;01mraise\u001B[39;00m exc\u001B[38;5;241m.\u001B[39mObjectNotExecutableError(\u001B[38;5;28mself\u001B[39m)\n",
      "File \u001B[0;32m~/miniconda3/envs/bpl_chatbot/lib/python3.12/site-packages/sqlalchemy/engine/base.py:1640\u001B[0m, in \u001B[0;36mConnection._execute_clauseelement\u001B[0;34m(self, elem, distilled_parameters, execution_options)\u001B[0m\n\u001B[1;32m   1628\u001B[0m compiled_cache: Optional[CompiledCacheType] \u001B[38;5;241m=\u001B[39m execution_options\u001B[38;5;241m.\u001B[39mget(\n\u001B[1;32m   1629\u001B[0m     \u001B[38;5;124m\"\u001B[39m\u001B[38;5;124mcompiled_cache\u001B[39m\u001B[38;5;124m\"\u001B[39m, \u001B[38;5;28mself\u001B[39m\u001B[38;5;241m.\u001B[39mengine\u001B[38;5;241m.\u001B[39m_compiled_cache\n\u001B[1;32m   1630\u001B[0m )\n\u001B[1;32m   1632\u001B[0m compiled_sql, extracted_params, cache_hit \u001B[38;5;241m=\u001B[39m elem\u001B[38;5;241m.\u001B[39m_compile_w_cache(\n\u001B[1;32m   1633\u001B[0m     dialect\u001B[38;5;241m=\u001B[39mdialect,\n\u001B[1;32m   1634\u001B[0m     compiled_cache\u001B[38;5;241m=\u001B[39mcompiled_cache,\n\u001B[0;32m   (...)\u001B[0m\n\u001B[1;32m   1638\u001B[0m     linting\u001B[38;5;241m=\u001B[39m\u001B[38;5;28mself\u001B[39m\u001B[38;5;241m.\u001B[39mdialect\u001B[38;5;241m.\u001B[39mcompiler_linting \u001B[38;5;241m|\u001B[39m compiler\u001B[38;5;241m.\u001B[39mWARN_LINTING,\n\u001B[1;32m   1639\u001B[0m )\n\u001B[0;32m-> 1640\u001B[0m ret \u001B[38;5;241m=\u001B[39m \u001B[38;5;28;43mself\u001B[39;49m\u001B[38;5;241;43m.\u001B[39;49m\u001B[43m_execute_context\u001B[49m\u001B[43m(\u001B[49m\n\u001B[1;32m   1641\u001B[0m \u001B[43m    \u001B[49m\u001B[43mdialect\u001B[49m\u001B[43m,\u001B[49m\n\u001B[1;32m   1642\u001B[0m \u001B[43m    \u001B[49m\u001B[43mdialect\u001B[49m\u001B[38;5;241;43m.\u001B[39;49m\u001B[43mexecution_ctx_cls\u001B[49m\u001B[38;5;241;43m.\u001B[39;49m\u001B[43m_init_compiled\u001B[49m\u001B[43m,\u001B[49m\n\u001B[1;32m   1643\u001B[0m \u001B[43m    \u001B[49m\u001B[43mcompiled_sql\u001B[49m\u001B[43m,\u001B[49m\n\u001B[1;32m   1644\u001B[0m \u001B[43m    \u001B[49m\u001B[43mdistilled_parameters\u001B[49m\u001B[43m,\u001B[49m\n\u001B[1;32m   1645\u001B[0m \u001B[43m    \u001B[49m\u001B[43mexecution_options\u001B[49m\u001B[43m,\u001B[49m\n\u001B[1;32m   1646\u001B[0m \u001B[43m    \u001B[49m\u001B[43mcompiled_sql\u001B[49m\u001B[43m,\u001B[49m\n\u001B[1;32m   1647\u001B[0m \u001B[43m    \u001B[49m\u001B[43mdistilled_parameters\u001B[49m\u001B[43m,\u001B[49m\n\u001B[1;32m   1648\u001B[0m \u001B[43m    \u001B[49m\u001B[43melem\u001B[49m\u001B[43m,\u001B[49m\n\u001B[1;32m   1649\u001B[0m \u001B[43m    \u001B[49m\u001B[43mextracted_params\u001B[49m\u001B[43m,\u001B[49m\n\u001B[1;32m   1650\u001B[0m \u001B[43m    \u001B[49m\u001B[43mcache_hit\u001B[49m\u001B[38;5;241;43m=\u001B[39;49m\u001B[43mcache_hit\u001B[49m\u001B[43m,\u001B[49m\n\u001B[1;32m   1651\u001B[0m \u001B[43m\u001B[49m\u001B[43m)\u001B[49m\n\u001B[1;32m   1652\u001B[0m \u001B[38;5;28;01mif\u001B[39;00m has_events:\n\u001B[1;32m   1653\u001B[0m     \u001B[38;5;28mself\u001B[39m\u001B[38;5;241m.\u001B[39mdispatch\u001B[38;5;241m.\u001B[39mafter_execute(\n\u001B[1;32m   1654\u001B[0m         \u001B[38;5;28mself\u001B[39m,\n\u001B[1;32m   1655\u001B[0m         elem,\n\u001B[0;32m   (...)\u001B[0m\n\u001B[1;32m   1659\u001B[0m         ret,\n\u001B[1;32m   1660\u001B[0m     )\n",
      "File \u001B[0;32m~/miniconda3/envs/bpl_chatbot/lib/python3.12/site-packages/sqlalchemy/engine/base.py:1846\u001B[0m, in \u001B[0;36mConnection._execute_context\u001B[0;34m(self, dialect, constructor, statement, parameters, execution_options, *args, **kw)\u001B[0m\n\u001B[1;32m   1844\u001B[0m     \u001B[38;5;28;01mreturn\u001B[39;00m \u001B[38;5;28mself\u001B[39m\u001B[38;5;241m.\u001B[39m_exec_insertmany_context(dialect, context)\n\u001B[1;32m   1845\u001B[0m \u001B[38;5;28;01melse\u001B[39;00m:\n\u001B[0;32m-> 1846\u001B[0m     \u001B[38;5;28;01mreturn\u001B[39;00m \u001B[38;5;28;43mself\u001B[39;49m\u001B[38;5;241;43m.\u001B[39;49m\u001B[43m_exec_single_context\u001B[49m\u001B[43m(\u001B[49m\n\u001B[1;32m   1847\u001B[0m \u001B[43m        \u001B[49m\u001B[43mdialect\u001B[49m\u001B[43m,\u001B[49m\u001B[43m \u001B[49m\u001B[43mcontext\u001B[49m\u001B[43m,\u001B[49m\u001B[43m \u001B[49m\u001B[43mstatement\u001B[49m\u001B[43m,\u001B[49m\u001B[43m \u001B[49m\u001B[43mparameters\u001B[49m\n\u001B[1;32m   1848\u001B[0m \u001B[43m    \u001B[49m\u001B[43m)\u001B[49m\n",
      "File \u001B[0;32m~/miniconda3/envs/bpl_chatbot/lib/python3.12/site-packages/sqlalchemy/engine/base.py:1986\u001B[0m, in \u001B[0;36mConnection._exec_single_context\u001B[0;34m(self, dialect, context, statement, parameters)\u001B[0m\n\u001B[1;32m   1983\u001B[0m     result \u001B[38;5;241m=\u001B[39m context\u001B[38;5;241m.\u001B[39m_setup_result_proxy()\n\u001B[1;32m   1985\u001B[0m \u001B[38;5;28;01mexcept\u001B[39;00m \u001B[38;5;167;01mBaseException\u001B[39;00m \u001B[38;5;28;01mas\u001B[39;00m e:\n\u001B[0;32m-> 1986\u001B[0m     \u001B[38;5;28;43mself\u001B[39;49m\u001B[38;5;241;43m.\u001B[39;49m\u001B[43m_handle_dbapi_exception\u001B[49m\u001B[43m(\u001B[49m\n\u001B[1;32m   1987\u001B[0m \u001B[43m        \u001B[49m\u001B[43me\u001B[49m\u001B[43m,\u001B[49m\u001B[43m \u001B[49m\u001B[43mstr_statement\u001B[49m\u001B[43m,\u001B[49m\u001B[43m \u001B[49m\u001B[43meffective_parameters\u001B[49m\u001B[43m,\u001B[49m\u001B[43m \u001B[49m\u001B[43mcursor\u001B[49m\u001B[43m,\u001B[49m\u001B[43m \u001B[49m\u001B[43mcontext\u001B[49m\n\u001B[1;32m   1988\u001B[0m \u001B[43m    \u001B[49m\u001B[43m)\u001B[49m\n\u001B[1;32m   1990\u001B[0m \u001B[38;5;28;01mreturn\u001B[39;00m result\n",
      "File \u001B[0;32m~/miniconda3/envs/bpl_chatbot/lib/python3.12/site-packages/sqlalchemy/engine/base.py:2355\u001B[0m, in \u001B[0;36mConnection._handle_dbapi_exception\u001B[0;34m(self, e, statement, parameters, cursor, context, is_sub_exec)\u001B[0m\n\u001B[1;32m   2353\u001B[0m \u001B[38;5;28;01melif\u001B[39;00m should_wrap:\n\u001B[1;32m   2354\u001B[0m     \u001B[38;5;28;01massert\u001B[39;00m sqlalchemy_exception \u001B[38;5;129;01mis\u001B[39;00m \u001B[38;5;129;01mnot\u001B[39;00m \u001B[38;5;28;01mNone\u001B[39;00m\n\u001B[0;32m-> 2355\u001B[0m     \u001B[38;5;28;01mraise\u001B[39;00m sqlalchemy_exception\u001B[38;5;241m.\u001B[39mwith_traceback(exc_info[\u001B[38;5;241m2\u001B[39m]) \u001B[38;5;28;01mfrom\u001B[39;00m \u001B[38;5;21;01me\u001B[39;00m\n\u001B[1;32m   2356\u001B[0m \u001B[38;5;28;01melse\u001B[39;00m:\n\u001B[1;32m   2357\u001B[0m     \u001B[38;5;28;01massert\u001B[39;00m exc_info[\u001B[38;5;241m1\u001B[39m] \u001B[38;5;129;01mis\u001B[39;00m \u001B[38;5;129;01mnot\u001B[39;00m \u001B[38;5;28;01mNone\u001B[39;00m\n",
      "File \u001B[0;32m~/miniconda3/envs/bpl_chatbot/lib/python3.12/site-packages/sqlalchemy/engine/base.py:1967\u001B[0m, in \u001B[0;36mConnection._exec_single_context\u001B[0;34m(self, dialect, context, statement, parameters)\u001B[0m\n\u001B[1;32m   1965\u001B[0m                 \u001B[38;5;28;01mbreak\u001B[39;00m\n\u001B[1;32m   1966\u001B[0m     \u001B[38;5;28;01mif\u001B[39;00m \u001B[38;5;129;01mnot\u001B[39;00m evt_handled:\n\u001B[0;32m-> 1967\u001B[0m         \u001B[38;5;28;43mself\u001B[39;49m\u001B[38;5;241;43m.\u001B[39;49m\u001B[43mdialect\u001B[49m\u001B[38;5;241;43m.\u001B[39;49m\u001B[43mdo_execute\u001B[49m\u001B[43m(\u001B[49m\n\u001B[1;32m   1968\u001B[0m \u001B[43m            \u001B[49m\u001B[43mcursor\u001B[49m\u001B[43m,\u001B[49m\u001B[43m \u001B[49m\u001B[43mstr_statement\u001B[49m\u001B[43m,\u001B[49m\u001B[43m \u001B[49m\u001B[43meffective_parameters\u001B[49m\u001B[43m,\u001B[49m\u001B[43m \u001B[49m\u001B[43mcontext\u001B[49m\n\u001B[1;32m   1969\u001B[0m \u001B[43m        \u001B[49m\u001B[43m)\u001B[49m\n\u001B[1;32m   1971\u001B[0m \u001B[38;5;28;01mif\u001B[39;00m \u001B[38;5;28mself\u001B[39m\u001B[38;5;241m.\u001B[39m_has_events \u001B[38;5;129;01mor\u001B[39;00m \u001B[38;5;28mself\u001B[39m\u001B[38;5;241m.\u001B[39mengine\u001B[38;5;241m.\u001B[39m_has_events:\n\u001B[1;32m   1972\u001B[0m     \u001B[38;5;28mself\u001B[39m\u001B[38;5;241m.\u001B[39mdispatch\u001B[38;5;241m.\u001B[39mafter_cursor_execute(\n\u001B[1;32m   1973\u001B[0m         \u001B[38;5;28mself\u001B[39m,\n\u001B[1;32m   1974\u001B[0m         cursor,\n\u001B[0;32m   (...)\u001B[0m\n\u001B[1;32m   1978\u001B[0m         context\u001B[38;5;241m.\u001B[39mexecutemany,\n\u001B[1;32m   1979\u001B[0m     )\n",
      "File \u001B[0;32m~/miniconda3/envs/bpl_chatbot/lib/python3.12/site-packages/sqlalchemy/engine/default.py:941\u001B[0m, in \u001B[0;36mDefaultDialect.do_execute\u001B[0;34m(self, cursor, statement, parameters, context)\u001B[0m\n\u001B[1;32m    940\u001B[0m \u001B[38;5;28;01mdef\u001B[39;00m \u001B[38;5;21mdo_execute\u001B[39m(\u001B[38;5;28mself\u001B[39m, cursor, statement, parameters, context\u001B[38;5;241m=\u001B[39m\u001B[38;5;28;01mNone\u001B[39;00m):\n\u001B[0;32m--> 941\u001B[0m     \u001B[43mcursor\u001B[49m\u001B[38;5;241;43m.\u001B[39;49m\u001B[43mexecute\u001B[49m\u001B[43m(\u001B[49m\u001B[43mstatement\u001B[49m\u001B[43m,\u001B[49m\u001B[43m \u001B[49m\u001B[43mparameters\u001B[49m\u001B[43m)\u001B[49m\n",
      "\u001B[0;31mOperationalError\u001B[0m: (sqlite3.OperationalError) near \"Question\": syntax error\n[SQL: Question: What is the average and standard deviation of air quality in Indonesia?\nSQLQuery: SELECT \"mean\", \"std\" FROM airxcntry WHERE \"WB_NAME\" = 'Indonesia]\n(Background on this error at: https://sqlalche.me/e/20/e3q8)"
     ]
    }
   ],
   "execution_count": 11
  },
  {
   "metadata": {},
   "cell_type": "markdown",
   "source": "##### Oops! Let's see if we can do some prompt engineering to improve model.\n",
   "id": "6cd2bc13636c3333"
  },
  {
   "metadata": {
    "ExecuteTime": {
     "end_time": "2024-11-15T17:48:04.079473Z",
     "start_time": "2024-11-15T17:48:04.045196Z"
    }
   },
   "cell_type": "code",
   "source": [
    "# Default prompt\n",
    "sql_prompt_default = sql_agent_default.get_prompts()[0]\n",
    "sql_prompt_default.pretty_print()"
   ],
   "id": "24c922f1be2cc359",
   "outputs": [
    {
     "name": "stdout",
     "output_type": "stream",
     "text": [
      "You are a SQLite expert. Given an input question, first create a syntactically correct SQLite query to run, then look at the results of the query and return the answer to the input question.\n",
      "Unless the user specifies in the question a specific number of examples to obtain, query for at most 5 results using the LIMIT clause as per SQLite. You can order the results to return the most informative data in the database.\n",
      "Never query for all columns from a table. You must query only the columns that are needed to answer the question. Wrap each column name in double quotes (\") to denote them as delimited identifiers.\n",
      "Pay attention to use only the column names you can see in the tables below. Be careful to not query for columns that do not exist. Also, pay attention to which column is in which table.\n",
      "Pay attention to use date('now') function to get the current date, if the question involves \"today\".\n",
      "\n",
      "Use the following format:\n",
      "\n",
      "Question: Question here\n",
      "SQLQuery: SQL Query to run\n",
      "SQLResult: Result of the SQLQuery\n",
      "Answer: Final answer here\n",
      "\n",
      "Only use the following tables:\n",
      "\u001B[33;1m\u001B[1;3m{table_info}\u001B[0m\n",
      "\n",
      "Question: \u001B[33;1m\u001B[1;3m{input}\u001B[0m\n"
     ]
    }
   ],
   "execution_count": 12
  },
  {
   "metadata": {},
   "cell_type": "markdown",
   "source": [
    "##### Prompt engineering\n",
    "\n",
    "Remove the following instructions, which may be confusing the model: \n",
    "* Pay attention to use date('now') function to get the current date, if the question involves \"today\".\n",
    "* Wrap each column name in double quotes (\") to denote them as delimited identifiers.\n",
    "\n",
    "And add the following instructions based on how we see the model interpreting our request. \n",
    "* Return ONLY the SQLQuery with no other context given. Do not include the question in the output. Do not include the title 'SQLQuery' in the output.\n"
   ],
   "id": "e754a4ea13e5216a"
  },
  {
   "metadata": {
    "ExecuteTime": {
     "end_time": "2024-11-15T17:48:06.599896Z",
     "start_time": "2024-11-15T17:48:06.597206Z"
    }
   },
   "cell_type": "code",
   "source": [
    "# Improved prompt\n",
    "sql_prompt_text = '''\n",
    "    You are a SQLite expert. Given an input question, first create a syntactically correct {dialect} query to run, then look at the results of the query and return the answer to the input question.\n",
    "    Unless the user specifies in the question a specific number of examples to obtain, query for at most {top_k} results using the LIMIT clause as per SQLite. You can order the results to return the most informative data in the database.\n",
    "    Never query for all columns from a table. You must query only the columns that are needed to answer the question. \n",
    "    Pay attention to use only the column names you can see in the tables below. Be careful to not query for columns that do not exist. Also, pay attention to which column is in which table.\n",
    "    Return ONLY the SQLQuery with no other context given. Do not include the question in the output. Do not include the title 'SQLQuery' in the output.\n",
    "    \n",
    "    Use the following format:\n",
    "    Question: Question here\n",
    "    SQLQuery: SQL Query to run\n",
    "    SQLResult: Result of the SQLQuery\n",
    "    Answer: Final answer here\n",
    "    \n",
    "    Only use the following tables:\n",
    "    {table_info}\n",
    "    \n",
    "    Question: {input}\n",
    "'''\n",
    "\n",
    "sql_prompt = PromptTemplate(\n",
    "    input_variables = [\"input\", \"table_info\", \"top_k\", \"dialect\"],\n",
    "    template=sql_prompt_text\n",
    ")"
   ],
   "id": "6bac32fa0c1a9305",
   "outputs": [],
   "execution_count": 13
  },
  {
   "metadata": {
    "ExecuteTime": {
     "end_time": "2024-11-15T17:48:07.411414Z",
     "start_time": "2024-11-15T17:48:07.408186Z"
    }
   },
   "cell_type": "code",
   "source": [
    "# New agent based on improved prompt\n",
    "sql_agent = create_sql_query_chain(model, db, prompt=sql_prompt)"
   ],
   "id": "361ed6d18e870af3",
   "outputs": [],
   "execution_count": 14
  },
  {
   "metadata": {},
   "cell_type": "markdown",
   "source": "##### Now let's see what our new model returns when asked to generate SQL code.\n",
   "id": "d4071cde56ec9c4d"
  },
  {
   "metadata": {
    "ExecuteTime": {
     "end_time": "2024-11-15T17:48:12.083594Z",
     "start_time": "2024-11-15T17:48:09.084468Z"
    }
   },
   "cell_type": "code",
   "source": [
    "sql_code = sql_agent.invoke({\"question\": q_simple})\n",
    "print(sql_code)\n",
    "print(db.run(sql_code))\n",
    "\n",
    "print(\"\\nAnswer key:\")\n",
    "answer_key['q_simple']"
   ],
   "id": "1d6c6f1a520bc1bd",
   "outputs": [
    {
     "name": "stdout",
     "output_type": "stream",
     "text": [
      "SELECT mean, std FROM airxcntry WHERE WB_NAME = 'Indonesia'\n",
      "[(14.905112004829341, 3.897445770948378)]\n",
      "\n",
      "Answer key:\n"
     ]
    },
    {
     "data": {
      "text/plain": [
       "[[{'mean': 14.91, 'std': 3.9}]]"
      ]
     },
     "execution_count": 15,
     "metadata": {},
     "output_type": "execute_result"
    }
   ],
   "execution_count": 15
  },
  {
   "metadata": {},
   "cell_type": "markdown",
   "source": "##### Yay! We haven't actually built another agent to execute the SQL query yet, so let's do that now; and chain it to the agent that writes SQL code.\n",
   "id": "95f50bfd7975c438"
  },
  {
   "metadata": {},
   "cell_type": "markdown",
   "source": "#### b) Execute SQL query",
   "id": "bfb0f5d2d1156178"
  },
  {
   "metadata": {
    "ExecuteTime": {
     "end_time": "2024-11-15T17:48:18.776196Z",
     "start_time": "2024-11-15T17:48:18.003412Z"
    }
   },
   "cell_type": "code",
   "source": [
    "# b) Execute SQL query \n",
    "execute_sql_query = QuerySQLDataBaseTool(db=db)\n",
    "write_sql_query = create_sql_query_chain(model, db, prompt=sql_prompt)\n",
    "sql_chain = write_sql_query | execute_sql_query\n",
    "sql_chain.invoke({\"question\": q_simple})"
   ],
   "id": "cf85b2154c2d5f45",
   "outputs": [
    {
     "data": {
      "text/plain": [
       "'[(14.905112004829341, 3.897445770948378)]'"
      ]
     },
     "execution_count": 16,
     "metadata": {},
     "output_type": "execute_result"
    }
   ],
   "execution_count": 16
  },
  {
   "metadata": {},
   "cell_type": "markdown",
   "source": "#### c) Natural language response",
   "id": "6a07fbc43e522de5"
  },
  {
   "metadata": {
    "ExecuteTime": {
     "end_time": "2024-11-15T17:48:20.173707Z",
     "start_time": "2024-11-15T17:48:20.171490Z"
    }
   },
   "cell_type": "code",
   "source": [
    "# Prompt for agent that will interact with user\n",
    "answer_prompt = PromptTemplate.from_template(\n",
    "    \"\"\"Given the following user question, corresponding SQL query, and SQL result, answer the user question.\n",
    "\n",
    "    Question: {question}\n",
    "    SQL Query: {query}\n",
    "    SQL Result: {result}\n",
    "    Answer:\n",
    "    \n",
    "    \"\"\"\n",
    ")"
   ],
   "id": "152d987bda8b1cdc",
   "outputs": [],
   "execution_count": 17
  },
  {
   "metadata": {
    "ExecuteTime": {
     "end_time": "2024-11-15T17:48:22.706591Z",
     "start_time": "2024-11-15T17:48:22.700630Z"
    }
   },
   "cell_type": "code",
   "source": [
    "# Chain all agents together\n",
    "chain = (\n",
    "    RunnablePassthrough.assign(query=write_sql_query).assign(\n",
    "        result=itemgetter(\"query\") | execute_sql_query\n",
    "    )\n",
    "    | answer_prompt | model | StrOutputParser()\n",
    ")\n"
   ],
   "id": "526edb479432fcc6",
   "outputs": [],
   "execution_count": 18
  },
  {
   "metadata": {
    "ExecuteTime": {
     "end_time": "2024-11-15T17:48:26.378552Z",
     "start_time": "2024-11-15T17:48:23.323118Z"
    }
   },
   "cell_type": "code",
   "source": [
    "# Test chain\n",
    "final_response = chain.invoke({\"question\": q_simple})\n",
    "print(final_response)"
   ],
   "id": "f9482dae57eb9526",
   "outputs": [
    {
     "name": "stdout",
     "output_type": "stream",
     "text": [
      "The average air quality in Indonesia is approximately 14.91 and the standard deviation of air quality in Indonesia is approximately 3.90. \n",
      "\n",
      "This information can be used to assess the overall air quality in Indonesia and its variations, which may be useful for policymakers or researchers interested in environmental health issues.\n"
     ]
    }
   ],
   "execution_count": 19
  },
  {
   "metadata": {},
   "cell_type": "markdown",
   "source": "### 4) Answers to other queries",
   "id": "fed3c0416234e4a8"
  },
  {
   "metadata": {
    "ExecuteTime": {
     "end_time": "2024-11-15T17:48:44.355489Z",
     "start_time": "2024-11-15T17:48:33.333587Z"
    }
   },
   "cell_type": "code",
   "source": [
    "# q_relative \n",
    "# q_relative = \"Which five countries have the worst average air quality?\"\n",
    "\n",
    "print(q_relative, \"\\n\")\n",
    "\n",
    "r_relative = chain.invoke({\"question\": q_relative})\n",
    "print(r_relative)\n",
    "\n",
    "print(\"\\nAnswer key:\", answer_key['q_relative'])\n",
    "\n",
    "print(\"\\nSQL code written:\", sql_agent.invoke({\"question\": q_relative}))\n"
   ],
   "id": "91c6d578fac075d3",
   "outputs": [
    {
     "name": "stdout",
     "output_type": "stream",
     "text": [
      "Which five countries have the worst air quality? \n",
      "\n",
      "Based on the SQL query and result, it appears that the air quality is being measured by a \"min\" value (likely the minimum concentration of some pollutant) and the countries with the worst air quality are those with the highest \"min\" values.\n",
      "\n",
      "However, since the actual data being used to calculate the \"min\" value is not provided in the query or result, we can only make an educated guess about what kind of air quality metric is being measured. \n",
      "\n",
      "Assuming that the \"min\" value represents a minimum concentration of some pollutant (such as particulate matter), it seems that Qatar, Bahrain, Kuwait, Bangladesh, and the United Arab Emirates have the worst air quality based on this particular metric.\n",
      "\n",
      "Therefore, the answer to the user's question could be:\n",
      "\n",
      "\"The five countries with the worst air quality are Qatar, Bahrain, Kuwait, Bangladesh, and the United Arab Emirates.\"\n",
      "\n",
      "Answer key: ['Qatar', 'Bangladesh', 'Nigeria', 'Saudi Arabia', 'United Arab Emirates']\n",
      "\n",
      "SQL code written: SELECT WB_NAME FROM airxcntry ORDER BY min DESC LIMIT 5\n"
     ]
    }
   ],
   "execution_count": 20
  },
  {
   "metadata": {},
   "cell_type": "markdown",
   "source": "##### Human assessment: A little verbose and chose to rely on the min instead of mean columns which could be defensible, but should be standardized. Greatly improved by user adding more context.",
   "id": "6edf8f9ca519701"
  },
  {
   "metadata": {
    "ExecuteTime": {
     "end_time": "2024-11-15T17:49:14.042082Z",
     "start_time": "2024-11-15T17:49:04.589220Z"
    }
   },
   "cell_type": "code",
   "source": [
    "# q_summarize\n",
    "\n",
    "print(q_summarize, \"\\n\")\n",
    "\n",
    "r_summarize = chain.invoke({\"question\": q_summarize})\n",
    "print(r_summarize)\n",
    "\n",
    "print(\"\\nAnswer key:\", answer_key['q_summarize'])\n",
    "\n",
    "print(\"\\nSQL code written:\", sql_agent.invoke({\"question\": q_summarize}))\n"
   ],
   "id": "b2f3e31fa2b6e491",
   "outputs": [
    {
     "name": "stdout",
     "output_type": "stream",
     "text": [
      "What is the average air quality on each continent? \n",
      "\n",
      "Based on the SQL result, it appears that the average air quality on each continent is as follows:\n",
      "\n",
      "* Africa: 22.63\n",
      "* Asia: 14.91\n",
      "* Europe: 9.92\n",
      "* North America: 16.97\n",
      "* Oceania: 12.76\n",
      "* Seven seas (open ocean): 4.88\n",
      "* South America: 16.12\n",
      "\n",
      "Therefore, the answer to the user question is:\n",
      "\n",
      "\"The average air quality on each continent is as follows:\n",
      "Africa: 22.63\n",
      "Asia: 14.91\n",
      "Europe: 9.92\n",
      "North America: 16.97\n",
      "Oceania: 12.76\n",
      "Seven seas (open ocean): 4.88\n",
      "South America: 16.12\"\n",
      "\n",
      "Answer key: [{'Africa': 29.7, 'Asia': 31.31, 'Europe': 12.78, 'North America': 11.88, 'Oceania': 5.72, 'Seven seas (open ocean)': 7.44, 'South America': 17.68}]\n",
      "\n",
      "SQL code written: SELECT CONTINENT, mean FROM airxcntry GROUP BY CONTINENT\n"
     ]
    }
   ],
   "execution_count": 21
  },
  {
   "metadata": {},
   "cell_type": "markdown",
   "source": "##### Human assessment: Incorrect! Looks like it is just taking the mean of the first entry in each continent. ",
   "id": "74b0bd01c3a36f14"
  },
  {
   "metadata": {
    "ExecuteTime": {
     "end_time": "2024-11-15T17:49:34.931943Z",
     "start_time": "2024-11-15T17:49:22.735309Z"
    }
   },
   "cell_type": "code",
   "source": [
    "# q_filter\n",
    "\n",
    "print(q_filter, \"\\n\")\n",
    "\n",
    "r_filter = chain.invoke({\"question\": q_filter})\n",
    "print(r_filter)\n",
    "\n",
    "print(\"\\nAnswer key:\", answer_key['q_filter'])\n",
    "\n",
    "print(\"\\nSQL code written:\", sql_agent.invoke({\"question\": q_filter}))\n"
   ],
   "id": "30aac53cf8fcaeff",
   "outputs": [
    {
     "name": "stdout",
     "output_type": "stream",
     "text": [
      "In how many countries did maximum air quality surpass 100 micrograms per cubic meter? \n",
      "\n",
      "The SQL query is trying to count the number of rows in the `airxcntry` table where the maximum air quality index (`max`) is greater than 100. However, there's a syntax error.\n",
      "\n",
      "Looking at the SQL result, it seems that SQLite (the database system being used) doesn't like the word \"index\" as part of the SELECT clause. This is because \"index\" is a reserved keyword in SQLite.\n",
      "\n",
      "To fix this issue, we can use backticks to escape the word \"index\", or simply replace it with the actual column name if it's not using the default index column name (which I assume is not the case here).\n",
      "\n",
      "However, based on the SQL query and result provided, it seems that there might be a different error. The `SELECT COUNT(index) FROM airxcntry WHERE max > 100` query should actually be `SELECT COUNT(*) FROM airxcntry WHERE max > 100`. The column name is not \"index\" but rather an auto-incrementing integer value.\n",
      "\n",
      "So, the correct SQL query to answer the user question would be:\n",
      "\n",
      "```sql\n",
      "SELECT COUNT(*) \n",
      "FROM airxcntry \n",
      "WHERE max > 100\n",
      "```\n",
      "\n",
      "This will return the number of countries where maximum air quality surpasses 100 micrograms per cubic meter.\n",
      "\n",
      "Answer key: 10\n",
      "\n",
      "SQL code written: SELECT COUNT(index) FROM airxcntry WHERE max > 100\n"
     ]
    }
   ],
   "execution_count": 22
  },
  {
   "metadata": {},
   "cell_type": "markdown",
   "source": "##### Human assessment: Again verbose and never got around to actually answering the question. Not sure its suggestion is the best / most efficient SQL query either.",
   "id": "2c2701b81e824c83"
  }
 ],
 "metadata": {
  "kernelspec": {
   "display_name": "Python 3",
   "language": "python",
   "name": "python3"
  },
  "language_info": {
   "codemirror_mode": {
    "name": "ipython",
    "version": 2
   },
   "file_extension": ".py",
   "mimetype": "text/x-python",
   "name": "python",
   "nbconvert_exporter": "python",
   "pygments_lexer": "ipython2",
   "version": "2.7.6"
  }
 },
 "nbformat": 4,
 "nbformat_minor": 5
}
