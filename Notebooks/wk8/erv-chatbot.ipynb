{
 "cells": [
  {
   "cell_type": "markdown",
   "id": "b3f8798df5fbdde5",
   "metadata": {},
   "source": [
    "# Environmental Rights Violations Chatbot\n",
    "\n",
    "## What is it?\n",
    "\n",
    "The ERV Chatbot queries SQL database containing mean, max, min, median, and standard deviation of air quality by country (and by extension, continent) with reasonable but inconsistent accuracy.\n",
    "\n",
    "For example, some user questions that the chatbot may answer are: \n",
    "1. What is the average and standard deviation of air quality in Indonesia?\n",
    "2. Which five countries have the worst air quality?\n",
    "3. What is the average air quality on each continent?\n",
    "4. In how many countries did maximum air quality surpass 100 micrograms per cubic meter?\n",
    "5. What is the average air quality among countries that start with the letter D?\n",
    "\n",
    "## Data sources\n",
    "\n",
    "Data                     | Source                                | Path (`data/input/...`)                     | Description                                                              | Units      | Sp. Res. | Temp. Res.\n",
    "-------------------------|---------------------------------------|---------------------------------------------|--------------------------------------------------------------------------|------------|----------| --------- \n",
    "Global Air Quality       | [WUSTL](https://sites.wustl.edu/acag/datasets/surface-pm2-5-archive/) | `airQuality.tif`                            | Ground-level fine particulate matter (PM2.5)                             | μg/m<sup>3 | ~1 km    | Single mean of years 2014-2019\n",
    "Global Heat Stress       | [CHIRTS](https://data.chc.ucsb.edu/products/CHIRTSdaily/v1.0/global_tifs_p05/)               | `heatstress103.tif`                         | Number of days in year where heat index was greater than 103F            | #          | ~5 km    | Year 2016 (hottest up to 2020)         \n",
    "Global Sanitation Access | [IHME](https://ghdx.healthdata.org/record/ihme-data/lmic-wash-access-geospatial-estimates-2000-2017)                 | `sanitation_access.tif`<sup>[1](#fn1)</sup> | Coverage of any improved sanitation facility access in 90 LMICs          | %          | ~5 km    | Single mean of years 2012-2017<sup>[3](#fn3)</sup>         \n",
    "Global Stunting          | [IHME](https://ghdx.healthdata.org/record/ihme-data/lmic-child-growth-failure-geospatial-estimates-2000-2017)                 | `stunting.tif`<sup>[2](#fn2)</sup>          | Prevalence of stunting for children under 5 years of age for 105 LMICs   | %          | ~5 km    | Single mean of years 2012-2017<sup>[3](#fn3)</sup>          \n",
    "Countries                | [World Bank](https://datacatalog.worldbank.org/search/dataset/0038272/World-Bank-Official-Boundaries)                     | `WB_countries_Admin0_10m`                   | World Bank-approved administrative boundaries (Admin 0), i.e. countries  | NA         | NA       | Last updated Mar 19, 2020        \n",
    "\n",
    "<a name=\"fn1\">1</a>: Previously named `w_access`\n",
    "\n",
    "<a name=\"fn2\">2</a>: Previously named `IHME_LMIC_CGF_2000_2017_STUNTING_PREV_MEAN_2017_Y2020M01D08.tif`\n",
    "\n",
    "<a name=\"fn3\">3</a>: Confirm with Naia that it was not the last 3 available years of data, or 2014-2017\n",
    "\n",
    "## Software\n",
    "\n",
    "This chatbot relies on the LangChain interface and the Llama 3.1 large language model (LLM). All necessary packages are \n",
    "included in `environment.yml`, but you will have to [download Ollama](https://python.langchain.com/docs/integrations/chat/ollama/) \n",
    "(once) to your local computer before you are able to access the Llama 3.1 model. Keep the Ollama application running to \n",
    "use the model within your python environment.\n",
    "\n",
    "## Outline\n",
    "1. Setup environment\n",
    "1. Load data into SQL database\n",
    "1. Define unit tests\n",
    "1. Build LLM\n",
    "1. Run LLM on possible queries\n",
    "\n",
    "\n"
   ]
  },
  {
   "cell_type": "markdown",
   "id": "42a61eea-884c-41af-a44b-158e33a74eae",
   "metadata": {},
   "source": [
    "## Setup Environment\n",
    "Let's run this notebook with the GPU accelerator."
   ]
  },
  {
   "cell_type": "code",
   "execution_count": 6,
   "id": "46e4b092-a0c4-48ec-be99-8c13ff47ba0d",
   "metadata": {
    "execution": {
     "iopub.execute_input": "2025-03-03T18:35:41.661980Z",
     "iopub.status.busy": "2025-03-03T18:35:41.661648Z",
     "iopub.status.idle": "2025-03-03T18:35:48.664029Z",
     "shell.execute_reply": "2025-03-03T18:35:48.662913Z",
     "shell.execute_reply.started": "2025-03-03T18:35:41.661955Z"
    },
    "trusted": true
   },
   "outputs": [
    {
     "name": "stdout",
     "output_type": "stream",
     "text": [
      "installed\n"
     ]
    }
   ],
   "source": [
    "# Spatial packages\n",
    "!pip install rasterio==1.4.0 rioxarray==0.17.0 geopandas==1.0.1 shapely==2.0.6 rasterstats==0.20.0 --quiet\n",
    "\n",
    "# LangChain\n",
    "!pip install langchain_ollama==0.2.0 langchain_core==0.3.9 langchain_community==0.3.1 langchain_experimental==0.3.2 langgraph --quiet\n",
    "\n",
    "print(\"installed\")"
   ]
  },
  {
   "cell_type": "markdown",
   "id": "4395db52b35da41f",
   "metadata": {},
   "source": [
    "## Load data into SQL database\n",
    "\n",
    "Documentation: https://python.langchain.com/docs/how_to/sql_csv/#sql"
   ]
  },
  {
   "cell_type": "code",
   "execution_count": 7,
   "id": "dfeafc8912e1e76d",
   "metadata": {
    "ExecuteTime": {
     "end_time": "2024-11-15T17:46:28.437506Z",
     "start_time": "2024-11-15T17:46:24.259369Z"
    },
    "execution": {
     "iopub.execute_input": "2025-03-03T18:35:53.222299Z",
     "iopub.status.busy": "2025-03-03T18:35:53.222000Z",
     "iopub.status.idle": "2025-03-03T18:35:54.232832Z",
     "shell.execute_reply": "2025-03-03T18:35:54.231980Z",
     "shell.execute_reply.started": "2025-03-03T18:35:53.222274Z"
    },
    "trusted": true
   },
   "outputs": [
    {
     "data": {
      "text/plain": [
       "'/kaggle/input/erv-chatbot/data'"
      ]
     },
     "execution_count": 7,
     "metadata": {},
     "output_type": "execute_result"
    }
   ],
   "source": [
    "import os\n",
    "from pathlib import Path\n",
    "import pandas as pd\n",
    "import geopandas as gpd\n",
    "import rasterio as rio\n",
    "from rasterstats import zonal_stats\n",
    "from langchain_community.utilities import SQLDatabase\n",
    "from sqlalchemy import create_engine\n",
    "\n",
    "data_path = '/kaggle/input/erv-chatbot/data'\n",
    "data_path"
   ]
  },
  {
   "cell_type": "markdown",
   "id": "d20a2b0f-1f19-45c8-9784-67d1553398a2",
   "metadata": {},
   "source": [
    "This function defined below takes takes a tif and calculates the per-country statistics, then writes it to a SQL database."
   ]
  },
  {
   "cell_type": "code",
   "execution_count": 25,
   "id": "744d5a49dc3acbde",
   "metadata": {
    "ExecuteTime": {
     "end_time": "2024-11-15T17:46:31.059198Z",
     "start_time": "2024-11-15T17:46:31.054911Z"
    },
    "execution": {
     "iopub.execute_input": "2025-03-03T18:45:08.085428Z",
     "iopub.status.busy": "2025-03-03T18:45:08.085104Z",
     "iopub.status.idle": "2025-03-03T18:45:08.092897Z",
     "shell.execute_reply": "2025-03-03T18:45:08.091948Z",
     "shell.execute_reply.started": "2025-03-03T18:45:08.085404Z"
    },
    "trusted": true
   },
   "outputs": [
    {
     "name": "stdout",
     "output_type": "stream",
     "text": [
      "function defined\n"
     ]
    }
   ],
   "source": [
    "# Calculate zonal statistics in every polygon\n",
    "def calculate_zonal_stats(list_of_stats: list, geodata_path: Path, raster_path: Path, save_csv_path: Path = None):\n",
    "\n",
    "    # Load data\n",
    "    polygons = gpd.read_file(geodata_path)\n",
    "    with rio.open(raster_path) as src:\n",
    "        if src.crs != polygons.crs:\n",
    "            polygons = polygons.to_crs(src.crs)  # align CRS, if appplicable\n",
    "        raster = src.read(1)\n",
    "        affine = src.transform\n",
    "        nodata_value = src.nodata\n",
    "\n",
    "    # Calculate\n",
    "    stats = zonal_stats(polygons, raster,\n",
    "                        stats=list_of_stats,\n",
    "                        affine=affine, nodata=nodata_value)\n",
    "\n",
    "    # Reattach to original data\n",
    "    polygon_x_raster = pd.concat([\n",
    "        pd.DataFrame(polygons.drop(columns='geometry')),  # drop geometry to reduce size of dataset\n",
    "        pd.DataFrame(stats)],\n",
    "        axis=1)\n",
    "\n",
    "    # Export, if requested\n",
    "    if save_csv_path is not None:\n",
    "        polygon_x_raster.to_csv(save_csv_path, index=False)\n",
    "\n",
    "    return(polygon_x_raster)\n",
    "\n",
    "# Load data to SQL with LangChain\n",
    "def data_to_sql(df, name_of_database: str, if_exists_replace: bool = False):\n",
    "    database_path = f'{data_path}/{name_of_database}.db'\n",
    "    engine = create_engine(f'sqlite:///{database_path}')\n",
    "    if not Path(database_path).exists() or if_exists_replace is True:\n",
    "        df.to_sql(name_of_database, engine, if_exists='replace')\n",
    "    db = SQLDatabase(engine=engine)\n",
    "\n",
    "    return db\n",
    "\n",
    "print('function defined')"
   ]
  },
  {
   "cell_type": "code",
   "execution_count": 22,
   "id": "50de0d1203db238e",
   "metadata": {
    "ExecuteTime": {
     "end_time": "2024-11-15T17:46:35.174257Z",
     "start_time": "2024-11-15T17:46:32.846440Z"
    },
    "execution": {
     "iopub.execute_input": "2025-03-03T18:44:10.962174Z",
     "iopub.status.busy": "2025-03-03T18:44:10.961847Z",
     "iopub.status.idle": "2025-03-03T18:44:14.032637Z",
     "shell.execute_reply": "2025-03-03T18:44:14.031660Z",
     "shell.execute_reply.started": "2025-03-03T18:44:10.962146Z"
    },
    "trusted": true
   },
   "outputs": [
    {
     "data": {
      "text/plain": [
       "<langchain_community.utilities.sql_database.SQLDatabase at 0x79b57a9c9270>"
      ]
     },
     "execution_count": 22,
     "metadata": {},
     "output_type": "execute_result"
    }
   ],
   "source": [
    "# calculate zonal stats per country and write to a SQL database\n",
    "stats = ['mean', 'max', 'min', 'median', 'std']\n",
    "df = calculate_zonal_stats(\n",
    "    list_of_stats=stats,\n",
    "    geodata_path=Path(f'{data_path}/input/WB_countries_Admin0_10m/'),\n",
    "    raster_path=Path(f'{data_path}/input/airQuality.tif')\n",
    ")\n",
    "df = df[['WB_NAME', 'CONTINENT'] + stats].dropna()\n",
    "db = data_to_sql(df = df, name_of_database = 'airxcntry', if_exists_replace = False)\n",
    "db"
   ]
  },
  {
   "cell_type": "code",
   "execution_count": 26,
   "id": "16809840-6f58-4ed2-95ce-fa3bff50a0bb",
   "metadata": {
    "execution": {
     "iopub.execute_input": "2025-03-03T18:45:22.801793Z",
     "iopub.status.busy": "2025-03-03T18:45:22.801442Z",
     "iopub.status.idle": "2025-03-03T18:45:22.813441Z",
     "shell.execute_reply": "2025-03-03T18:45:22.812616Z",
     "shell.execute_reply.started": "2025-03-03T18:45:22.801763Z"
    },
    "trusted": true
   },
   "outputs": [
    {
     "data": {
      "text/html": [
       "<div>\n",
       "<style scoped>\n",
       "    .dataframe tbody tr th:only-of-type {\n",
       "        vertical-align: middle;\n",
       "    }\n",
       "\n",
       "    .dataframe tbody tr th {\n",
       "        vertical-align: top;\n",
       "    }\n",
       "\n",
       "    .dataframe thead th {\n",
       "        text-align: right;\n",
       "    }\n",
       "</style>\n",
       "<table border=\"1\" class=\"dataframe\">\n",
       "  <thead>\n",
       "    <tr style=\"text-align: right;\">\n",
       "      <th></th>\n",
       "      <th>WB_NAME</th>\n",
       "      <th>CONTINENT</th>\n",
       "      <th>mean</th>\n",
       "      <th>max</th>\n",
       "      <th>min</th>\n",
       "      <th>median</th>\n",
       "      <th>std</th>\n",
       "    </tr>\n",
       "  </thead>\n",
       "  <tbody>\n",
       "    <tr>\n",
       "      <th>0</th>\n",
       "      <td>Indonesia</td>\n",
       "      <td>Asia</td>\n",
       "      <td>14.905112</td>\n",
       "      <td>36.920002</td>\n",
       "      <td>6.760000</td>\n",
       "      <td>14.260000</td>\n",
       "      <td>3.897446</td>\n",
       "    </tr>\n",
       "    <tr>\n",
       "      <th>1</th>\n",
       "      <td>Malaysia</td>\n",
       "      <td>Asia</td>\n",
       "      <td>12.393976</td>\n",
       "      <td>22.320000</td>\n",
       "      <td>7.040000</td>\n",
       "      <td>12.220000</td>\n",
       "      <td>2.588654</td>\n",
       "    </tr>\n",
       "    <tr>\n",
       "      <th>2</th>\n",
       "      <td>Chile</td>\n",
       "      <td>South America</td>\n",
       "      <td>16.120725</td>\n",
       "      <td>35.599998</td>\n",
       "      <td>4.160000</td>\n",
       "      <td>15.100000</td>\n",
       "      <td>5.632093</td>\n",
       "    </tr>\n",
       "    <tr>\n",
       "      <th>3</th>\n",
       "      <td>Bolivia</td>\n",
       "      <td>South America</td>\n",
       "      <td>28.121454</td>\n",
       "      <td>43.380001</td>\n",
       "      <td>6.920000</td>\n",
       "      <td>29.520000</td>\n",
       "      <td>8.072599</td>\n",
       "    </tr>\n",
       "    <tr>\n",
       "      <th>4</th>\n",
       "      <td>Peru</td>\n",
       "      <td>South America</td>\n",
       "      <td>27.543493</td>\n",
       "      <td>43.840000</td>\n",
       "      <td>4.660000</td>\n",
       "      <td>28.260000</td>\n",
       "      <td>8.422236</td>\n",
       "    </tr>\n",
       "    <tr>\n",
       "      <th>...</th>\n",
       "      <td>...</td>\n",
       "      <td>...</td>\n",
       "      <td>...</td>\n",
       "      <td>...</td>\n",
       "      <td>...</td>\n",
       "      <td>...</td>\n",
       "      <td>...</td>\n",
       "    </tr>\n",
       "    <tr>\n",
       "      <th>231</th>\n",
       "      <td>Bahrain</td>\n",
       "      <td>Asia</td>\n",
       "      <td>58.750000</td>\n",
       "      <td>64.139999</td>\n",
       "      <td>54.060001</td>\n",
       "      <td>58.400002</td>\n",
       "      <td>4.297452</td>\n",
       "    </tr>\n",
       "    <tr>\n",
       "      <th>233</th>\n",
       "      <td>Macau (SAR, China)</td>\n",
       "      <td>Asia</td>\n",
       "      <td>24.799999</td>\n",
       "      <td>24.799999</td>\n",
       "      <td>24.799999</td>\n",
       "      <td>24.799999</td>\n",
       "      <td>0.000000</td>\n",
       "    </tr>\n",
       "    <tr>\n",
       "      <th>234</th>\n",
       "      <td>Bonaire (Neth.)</td>\n",
       "      <td>Europe</td>\n",
       "      <td>12.380000</td>\n",
       "      <td>13.120000</td>\n",
       "      <td>11.640000</td>\n",
       "      <td>12.380000</td>\n",
       "      <td>0.604207</td>\n",
       "    </tr>\n",
       "    <tr>\n",
       "      <th>237</th>\n",
       "      <td>Netherlands</td>\n",
       "      <td>Europe</td>\n",
       "      <td>10.757464</td>\n",
       "      <td>12.320000</td>\n",
       "      <td>9.120000</td>\n",
       "      <td>10.840000</td>\n",
       "      <td>0.663207</td>\n",
       "    </tr>\n",
       "    <tr>\n",
       "      <th>250</th>\n",
       "      <td>New Zealand</td>\n",
       "      <td>Oceania</td>\n",
       "      <td>7.653808</td>\n",
       "      <td>11.140000</td>\n",
       "      <td>4.060000</td>\n",
       "      <td>7.560000</td>\n",
       "      <td>1.479434</td>\n",
       "    </tr>\n",
       "  </tbody>\n",
       "</table>\n",
       "<p>223 rows × 7 columns</p>\n",
       "</div>"
      ],
      "text/plain": [
       "                WB_NAME      CONTINENT       mean        max        min  \\\n",
       "0             Indonesia           Asia  14.905112  36.920002   6.760000   \n",
       "1              Malaysia           Asia  12.393976  22.320000   7.040000   \n",
       "2                 Chile  South America  16.120725  35.599998   4.160000   \n",
       "3               Bolivia  South America  28.121454  43.380001   6.920000   \n",
       "4                  Peru  South America  27.543493  43.840000   4.660000   \n",
       "..                  ...            ...        ...        ...        ...   \n",
       "231             Bahrain           Asia  58.750000  64.139999  54.060001   \n",
       "233  Macau (SAR, China)           Asia  24.799999  24.799999  24.799999   \n",
       "234     Bonaire (Neth.)         Europe  12.380000  13.120000  11.640000   \n",
       "237         Netherlands         Europe  10.757464  12.320000   9.120000   \n",
       "250         New Zealand        Oceania   7.653808  11.140000   4.060000   \n",
       "\n",
       "        median       std  \n",
       "0    14.260000  3.897446  \n",
       "1    12.220000  2.588654  \n",
       "2    15.100000  5.632093  \n",
       "3    29.520000  8.072599  \n",
       "4    28.260000  8.422236  \n",
       "..         ...       ...  \n",
       "231  58.400002  4.297452  \n",
       "233  24.799999  0.000000  \n",
       "234  12.380000  0.604207  \n",
       "237  10.840000  0.663207  \n",
       "250   7.560000  1.479434  \n",
       "\n",
       "[223 rows x 7 columns]"
      ]
     },
     "execution_count": 26,
     "metadata": {},
     "output_type": "execute_result"
    }
   ],
   "source": [
    "# inspect the data\n",
    "df"
   ]
  },
  {
   "cell_type": "markdown",
   "id": "3cdc3f89eb1b5dbf",
   "metadata": {},
   "source": [
    "## Define unit tests"
   ]
  },
  {
   "cell_type": "code",
   "execution_count": 27,
   "id": "d8f72fb1315618ed",
   "metadata": {
    "ExecuteTime": {
     "end_time": "2024-11-15T17:46:46.894357Z",
     "start_time": "2024-11-15T17:46:46.892551Z"
    },
    "execution": {
     "iopub.execute_input": "2025-03-03T18:45:28.863192Z",
     "iopub.status.busy": "2025-03-03T18:45:28.862912Z",
     "iopub.status.idle": "2025-03-03T18:45:28.867773Z",
     "shell.execute_reply": "2025-03-03T18:45:28.866946Z",
     "shell.execute_reply.started": "2025-03-03T18:45:28.863172Z"
    },
    "trusted": true
   },
   "outputs": [
    {
     "name": "stdout",
     "output_type": "stream",
     "text": [
      "What is the average and standard deviation of air quality in Indonesia?\n"
     ]
    }
   ],
   "source": [
    "# Potential queries\n",
    "q_simple = \"What is the average and standard deviation of air quality in Indonesia?\"\n",
    "q_relative = \"Which five countries have the worst air quality?\"\n",
    "q_summarize = \"What is the average air quality on each continent?\"\n",
    "q_filter = \"In how many countries did maximum air quality surpass 100 micrograms per cubic meter?\"\n",
    "\n",
    "print(q_simple)"
   ]
  },
  {
   "cell_type": "code",
   "execution_count": 28,
   "id": "e972471e84fb72aa",
   "metadata": {
    "ExecuteTime": {
     "end_time": "2024-11-15T17:46:49.124245Z",
     "start_time": "2024-11-15T17:46:49.110566Z"
    },
    "execution": {
     "iopub.execute_input": "2025-03-03T18:45:42.970956Z",
     "iopub.status.busy": "2025-03-03T18:45:42.970644Z",
     "iopub.status.idle": "2025-03-03T18:45:42.980645Z",
     "shell.execute_reply": "2025-03-03T18:45:42.979811Z",
     "shell.execute_reply.started": "2025-03-03T18:45:42.970934Z"
    },
    "trusted": true
   },
   "outputs": [],
   "source": [
    "# Manually find answers from dataframe\n",
    "answer_key = {}\n",
    "\n",
    "# 1) \"What is the average and standard deviation of air quality in Indonesia?\"\n",
    "answer_key = answer_key | {\n",
    "    'q_simple': df[df['WB_NAME'] == \"Indonesia\"][['mean', 'std']].round(2).to_dict('records')\n",
    "}\n",
    "\n",
    "# 2) \"Which five countries have the worst air quality?\"\n",
    "answer_key = answer_key | {\n",
    "    'q_relative': df.sort_values('mean', ascending=False).head(5)['WB_NAME'].values.tolist()\n",
    "}\n",
    "\n",
    "# 3) \"What is the average air quality on each continent?\"\n",
    "answer_key = answer_key | {\n",
    "    'q_summarize': df.groupby('CONTINENT')['mean'].mean().round(2).to_dict()\n",
    "}\n",
    "\n",
    "# 4) \"In how many countries did maximum air quality surpass 100 micrograms per cubic meter?\"\n",
    "answer_key = answer_key | {\n",
    "    'q_filter': df[df['max'] > 100]['WB_NAME'].count()\n",
    "}"
   ]
  },
  {
   "cell_type": "code",
   "execution_count": 29,
   "id": "6dec75c76bb01e9f",
   "metadata": {
    "ExecuteTime": {
     "end_time": "2024-11-15T17:46:50.443719Z",
     "start_time": "2024-11-15T17:46:50.439126Z"
    },
    "execution": {
     "iopub.execute_input": "2025-03-03T18:45:46.047755Z",
     "iopub.status.busy": "2025-03-03T18:45:46.047429Z",
     "iopub.status.idle": "2025-03-03T18:45:46.053391Z",
     "shell.execute_reply": "2025-03-03T18:45:46.052303Z",
     "shell.execute_reply.started": "2025-03-03T18:45:46.047704Z"
    },
    "trusted": true
   },
   "outputs": [
    {
     "data": {
      "text/plain": [
       "{'q_simple': [{'mean': 14.91, 'std': 3.9}],\n",
       " 'q_relative': ['Qatar',\n",
       "  'Bangladesh',\n",
       "  'Nigeria',\n",
       "  'Saudi Arabia',\n",
       "  'United Arab Emirates'],\n",
       " 'q_summarize': {'Africa': 29.7,\n",
       "  'Asia': 31.31,\n",
       "  'Europe': 12.78,\n",
       "  'North America': 11.88,\n",
       "  'Oceania': 5.72,\n",
       "  'Seven seas (open ocean)': 7.44,\n",
       "  'South America': 17.68},\n",
       " 'q_filter': 10}"
      ]
     },
     "execution_count": 29,
     "metadata": {},
     "output_type": "execute_result"
    }
   ],
   "source": [
    "answer_key"
   ]
  },
  {
   "cell_type": "markdown",
   "id": "8996954f5026f707",
   "metadata": {},
   "source": [
    "## Build LLM\n",
    "\n",
    "We will eventually chain together agents that a) turn question into SQL query, b) run that SQL query, and c) return SQL result using a natural language response; but first let's explore each agent in turn.\n",
    "\n",
    "Resources:\n",
    "* Documentation: https://python.langchain.com/docs/tutorials/sql_qa\n",
    "* Example Notebook for Running Ollama in Kaggle: https://www.kaggle.com/code/sumanmichael/ollama-langchain-in-kaggle-gpu\n",
    "\n"
   ]
  },
  {
   "cell_type": "code",
   "execution_count": 33,
   "id": "2096e81e-9967-4d12-a0f5-8da4152ecfb2",
   "metadata": {
    "execution": {
     "iopub.execute_input": "2025-03-03T18:50:42.407155Z",
     "iopub.status.busy": "2025-03-03T18:50:42.406802Z",
     "iopub.status.idle": "2025-03-03T18:51:25.380982Z",
     "shell.execute_reply": "2025-03-03T18:51:25.379877Z",
     "shell.execute_reply.started": "2025-03-03T18:50:42.407129Z"
    },
    "trusted": true
   },
   "outputs": [
    {
     "name": "stdout",
     "output_type": "stream",
     "text": [
      ">>> Installing ollama to /usr/local\n",
      ">>> Downloading Linux amd64 bundle\n",
      "############################################################################################# 100.0%                                                                3.1%                                                                                     8.1%                                                                          9.8%#                                                                          23.0%################################                                                     45.2%\n",
      ">>> Creating ollama user...\n",
      ">>> Adding ollama user to video group...\n",
      ">>> Adding current user to ollama group...\n",
      ">>> Creating ollama systemd service...\n",
      "\u001b[1m\u001b[31mWARNING:\u001b[m systemd is not running\n",
      "\u001b[1m\u001b[31mWARNING:\u001b[m Unable to detect NVIDIA/AMD GPU. Install lspci or lshw to automatically detect and install GPU dependencies.\n",
      ">>> The Ollama API is now available at 127.0.0.1:11434.\n",
      ">>> Install complete. Run \"ollama\" from the command line.\n"
     ]
    }
   ],
   "source": [
    "# download and install ollama\n",
    "!curl -fsSL https://ollama.com/install.sh | sh"
   ]
  },
  {
   "cell_type": "code",
   "execution_count": 36,
   "id": "ac777018-5c8a-4248-8984-f7bee47d8886",
   "metadata": {
    "execution": {
     "iopub.execute_input": "2025-03-03T18:52:40.905123Z",
     "iopub.status.busy": "2025-03-03T18:52:40.904807Z",
     "iopub.status.idle": "2025-03-03T18:52:40.909896Z",
     "shell.execute_reply": "2025-03-03T18:52:40.908935Z",
     "shell.execute_reply.started": "2025-03-03T18:52:40.905096Z"
    },
    "trusted": true
   },
   "outputs": [
    {
     "name": "stdout",
     "output_type": "stream",
     "text": [
      "done\n"
     ]
    }
   ],
   "source": [
    "# to support background processes in Kaggle\n",
    "import os\n",
    "get_ipython().system = os.system\n",
    "print('done')"
   ]
  },
  {
   "cell_type": "code",
   "execution_count": 37,
   "id": "52653528-504f-4cf2-bf6c-7ad3905f354e",
   "metadata": {
    "execution": {
     "iopub.execute_input": "2025-03-03T18:52:43.278015Z",
     "iopub.status.busy": "2025-03-03T18:52:43.277655Z",
     "iopub.status.idle": "2025-03-03T18:52:43.284803Z",
     "shell.execute_reply": "2025-03-03T18:52:43.283806Z",
     "shell.execute_reply.started": "2025-03-03T18:52:43.277989Z"
    },
    "trusted": true
   },
   "outputs": [
    {
     "data": {
      "text/plain": [
       "0"
      ]
     },
     "execution_count": 37,
     "metadata": {},
     "output_type": "execute_result"
    }
   ],
   "source": [
    "# start ollama in the background\n",
    "!ollama serve &"
   ]
  },
  {
   "cell_type": "code",
   "execution_count": 38,
   "id": "0b129af0-2dd9-4338-8672-23aecd587c68",
   "metadata": {
    "execution": {
     "iopub.execute_input": "2025-03-03T18:52:47.206197Z",
     "iopub.status.busy": "2025-03-03T18:52:47.205899Z",
     "iopub.status.idle": "2025-03-03T18:53:26.359303Z",
     "shell.execute_reply": "2025-03-03T18:53:26.358311Z",
     "shell.execute_reply.started": "2025-03-03T18:52:47.206176Z"
    },
    "trusted": true
   },
   "outputs": [
    {
     "data": {
      "text/plain": [
       "0"
      ]
     },
     "execution_count": 38,
     "metadata": {},
     "output_type": "execute_result"
    }
   ],
   "source": [
    "# use ollama to pull the Llama v3.1\n",
    "!ollama pull llama3.1"
   ]
  },
  {
   "cell_type": "code",
   "execution_count": 40,
   "id": "4a70c4f591bc50a3",
   "metadata": {
    "ExecuteTime": {
     "end_time": "2024-11-15T17:46:54.319690Z",
     "start_time": "2024-11-15T17:46:53.147545Z"
    },
    "execution": {
     "iopub.execute_input": "2025-03-03T18:53:52.995321Z",
     "iopub.status.busy": "2025-03-03T18:53:52.995032Z",
     "iopub.status.idle": "2025-03-03T18:53:53.000530Z",
     "shell.execute_reply": "2025-03-03T18:53:52.999539Z",
     "shell.execute_reply.started": "2025-03-03T18:53:52.995301Z"
    },
    "trusted": true
   },
   "outputs": [
    {
     "name": "stdout",
     "output_type": "stream",
     "text": [
      "imported\n"
     ]
    }
   ],
   "source": [
    "from langchain_ollama import ChatOllama\n",
    "from langchain.chains import create_sql_query_chain\n",
    "from langchain_core.prompts import PromptTemplate\n",
    "from langchain_community.tools.sql_database.tool import QuerySQLDataBaseTool\n",
    "from operator import itemgetter\n",
    "from langchain_core.output_parsers import StrOutputParser\n",
    "from langchain_core.runnables import RunnablePassthrough\n",
    "\n",
    "print('imported')"
   ]
  },
  {
   "cell_type": "code",
   "execution_count": 42,
   "id": "d5f2a03fa380c226",
   "metadata": {
    "ExecuteTime": {
     "end_time": "2024-11-15T17:46:54.957736Z",
     "start_time": "2024-11-15T17:46:54.935200Z"
    },
    "execution": {
     "iopub.execute_input": "2025-03-03T18:54:02.222916Z",
     "iopub.status.busy": "2025-03-03T18:54:02.222567Z",
     "iopub.status.idle": "2025-03-03T18:54:02.328924Z",
     "shell.execute_reply": "2025-03-03T18:54:02.327986Z",
     "shell.execute_reply.started": "2025-03-03T18:54:02.222887Z"
    },
    "trusted": true
   },
   "outputs": [
    {
     "data": {
      "text/plain": [
       "ChatOllama(model='llama3.1', seed=123)"
      ]
     },
     "execution_count": 42,
     "metadata": {},
     "output_type": "execute_result"
    }
   ],
   "source": [
    "# Load model\n",
    "model = ChatOllama(model=\"llama3.1\", seed=123)\n",
    "model"
   ]
  },
  {
   "cell_type": "markdown",
   "id": "4528bde91c2ed432",
   "metadata": {},
   "source": [
    "#### a) Generate SQL query"
   ]
  },
  {
   "cell_type": "code",
   "execution_count": 43,
   "id": "a8f73c40ef6b3683",
   "metadata": {
    "ExecuteTime": {
     "end_time": "2024-11-15T17:47:07.419996Z",
     "start_time": "2024-11-15T17:46:58.270893Z"
    },
    "execution": {
     "iopub.execute_input": "2025-03-03T18:54:07.251263Z",
     "iopub.status.busy": "2025-03-03T18:54:07.250976Z",
     "iopub.status.idle": "2025-03-03T18:54:13.081429Z",
     "shell.execute_reply": "2025-03-03T18:54:13.080595Z",
     "shell.execute_reply.started": "2025-03-03T18:54:07.251243Z"
    },
    "trusted": true
   },
   "outputs": [
    {
     "name": "stdout",
     "output_type": "stream",
     "text": [
      "Question: What is the average and standard deviation of air quality in Indonesia?\n",
      "SQLQuery: SELECT \"mean\", \"std\" FROM \"airxcntry\" WHERE \"WB_NAME\" = 'Indonesia'\n"
     ]
    }
   ],
   "source": [
    "# a) Generate SQL query (default)\n",
    "sql_agent_default = create_sql_query_chain(model, db)\n",
    "sql_code_default = sql_agent_default.invoke({\"question\": q_simple})\n",
    "print(sql_code_default)"
   ]
  },
  {
   "cell_type": "markdown",
   "id": "c952826bbe66ffa0",
   "metadata": {},
   "source": [
    "**Question for you: Is this SQL query going to run successfully? Why or why not?**\n",
    "\n",
    "**Your answer:**"
   ]
  },
  {
   "cell_type": "code",
   "execution_count": 44,
   "id": "1b2a1ac2f2b66577",
   "metadata": {
    "ExecuteTime": {
     "end_time": "2024-11-15T17:47:51.223169Z",
     "start_time": "2024-11-15T17:47:50.413001Z"
    },
    "execution": {
     "iopub.execute_input": "2025-03-03T18:55:25.683625Z",
     "iopub.status.busy": "2025-03-03T18:55:25.683269Z",
     "iopub.status.idle": "2025-03-03T18:55:25.722108Z",
     "shell.execute_reply": "2025-03-03T18:55:25.720780Z",
     "shell.execute_reply.started": "2025-03-03T18:55:25.683602Z"
    },
    "trusted": true
   },
   "outputs": [
    {
     "ename": "OperationalError",
     "evalue": "(sqlite3.OperationalError) near \"Question\": syntax error\n[SQL: Question: What is the average and standard deviation of air quality in Indonesia?\nSQLQuery: SELECT \"mean\", \"std\" FROM \"airxcntry\" WHERE \"WB_NAME\" = 'Indonesia']\n(Background on this error at: https://sqlalche.me/e/20/e3q8)",
     "output_type": "error",
     "traceback": [
      "\u001b[0;31m---------------------------------------------------------------------------\u001b[0m",
      "\u001b[0;31mOperationalError\u001b[0m                          Traceback (most recent call last)",
      "\u001b[0;32m/usr/local/lib/python3.10/dist-packages/sqlalchemy/engine/base.py\u001b[0m in \u001b[0;36m_exec_single_context\u001b[0;34m(self, dialect, context, statement, parameters)\u001b[0m\n\u001b[1;32m   1966\u001b[0m                 \u001b[0;32mif\u001b[0m \u001b[0;32mnot\u001b[0m \u001b[0mevt_handled\u001b[0m\u001b[0;34m:\u001b[0m\u001b[0;34m\u001b[0m\u001b[0;34m\u001b[0m\u001b[0m\n\u001b[0;32m-> 1967\u001b[0;31m                     self.dialect.do_execute(\n\u001b[0m\u001b[1;32m   1968\u001b[0m                         \u001b[0mcursor\u001b[0m\u001b[0;34m,\u001b[0m \u001b[0mstr_statement\u001b[0m\u001b[0;34m,\u001b[0m \u001b[0meffective_parameters\u001b[0m\u001b[0;34m,\u001b[0m \u001b[0mcontext\u001b[0m\u001b[0;34m\u001b[0m\u001b[0;34m\u001b[0m\u001b[0m\n",
      "\u001b[0;32m/usr/local/lib/python3.10/dist-packages/sqlalchemy/engine/default.py\u001b[0m in \u001b[0;36mdo_execute\u001b[0;34m(self, cursor, statement, parameters, context)\u001b[0m\n\u001b[1;32m    940\u001b[0m     \u001b[0;32mdef\u001b[0m \u001b[0mdo_execute\u001b[0m\u001b[0;34m(\u001b[0m\u001b[0mself\u001b[0m\u001b[0;34m,\u001b[0m \u001b[0mcursor\u001b[0m\u001b[0;34m,\u001b[0m \u001b[0mstatement\u001b[0m\u001b[0;34m,\u001b[0m \u001b[0mparameters\u001b[0m\u001b[0;34m,\u001b[0m \u001b[0mcontext\u001b[0m\u001b[0;34m=\u001b[0m\u001b[0;32mNone\u001b[0m\u001b[0;34m)\u001b[0m\u001b[0;34m:\u001b[0m\u001b[0;34m\u001b[0m\u001b[0;34m\u001b[0m\u001b[0m\n\u001b[0;32m--> 941\u001b[0;31m         \u001b[0mcursor\u001b[0m\u001b[0;34m.\u001b[0m\u001b[0mexecute\u001b[0m\u001b[0;34m(\u001b[0m\u001b[0mstatement\u001b[0m\u001b[0;34m,\u001b[0m \u001b[0mparameters\u001b[0m\u001b[0;34m)\u001b[0m\u001b[0;34m\u001b[0m\u001b[0;34m\u001b[0m\u001b[0m\n\u001b[0m\u001b[1;32m    942\u001b[0m \u001b[0;34m\u001b[0m\u001b[0m\n",
      "\u001b[0;31mOperationalError\u001b[0m: near \"Question\": syntax error",
      "\nThe above exception was the direct cause of the following exception:\n",
      "\u001b[0;31mOperationalError\u001b[0m                          Traceback (most recent call last)",
      "\u001b[0;32m<ipython-input-44-60a3ec76b03e>\u001b[0m in \u001b[0;36m<cell line: 1>\u001b[0;34m()\u001b[0m\n\u001b[0;32m----> 1\u001b[0;31m \u001b[0mdb\u001b[0m\u001b[0;34m.\u001b[0m\u001b[0mrun\u001b[0m\u001b[0;34m(\u001b[0m\u001b[0msql_code_default\u001b[0m\u001b[0;34m)\u001b[0m\u001b[0;34m\u001b[0m\u001b[0;34m\u001b[0m\u001b[0m\n\u001b[0m",
      "\u001b[0;32m/usr/local/lib/python3.10/dist-packages/langchain_community/utilities/sql_database.py\u001b[0m in \u001b[0;36mrun\u001b[0;34m(self, command, fetch, include_columns, parameters, execution_options)\u001b[0m\n\u001b[1;32m    500\u001b[0m         \u001b[0mIf\u001b[0m \u001b[0mthe\u001b[0m \u001b[0mstatement\u001b[0m \u001b[0mreturns\u001b[0m \u001b[0mno\u001b[0m \u001b[0mrows\u001b[0m\u001b[0;34m,\u001b[0m \u001b[0man\u001b[0m \u001b[0mempty\u001b[0m \u001b[0mstring\u001b[0m \u001b[0;32mis\u001b[0m \u001b[0mreturned\u001b[0m\u001b[0;34m.\u001b[0m\u001b[0;34m\u001b[0m\u001b[0;34m\u001b[0m\u001b[0m\n\u001b[1;32m    501\u001b[0m         \"\"\"\n\u001b[0;32m--> 502\u001b[0;31m         result = self._execute(\n\u001b[0m\u001b[1;32m    503\u001b[0m             \u001b[0mcommand\u001b[0m\u001b[0;34m,\u001b[0m \u001b[0mfetch\u001b[0m\u001b[0;34m,\u001b[0m \u001b[0mparameters\u001b[0m\u001b[0;34m=\u001b[0m\u001b[0mparameters\u001b[0m\u001b[0;34m,\u001b[0m \u001b[0mexecution_options\u001b[0m\u001b[0;34m=\u001b[0m\u001b[0mexecution_options\u001b[0m\u001b[0;34m\u001b[0m\u001b[0;34m\u001b[0m\u001b[0m\n\u001b[1;32m    504\u001b[0m         )\n",
      "\u001b[0;32m/usr/local/lib/python3.10/dist-packages/langchain_community/utilities/sql_database.py\u001b[0m in \u001b[0;36m_execute\u001b[0;34m(self, command, fetch, parameters, execution_options)\u001b[0m\n\u001b[1;32m    465\u001b[0m             \u001b[0;32melse\u001b[0m\u001b[0;34m:\u001b[0m\u001b[0;34m\u001b[0m\u001b[0;34m\u001b[0m\u001b[0m\n\u001b[1;32m    466\u001b[0m                 \u001b[0;32mraise\u001b[0m \u001b[0mTypeError\u001b[0m\u001b[0;34m(\u001b[0m\u001b[0;34mf\"Query expression has unknown type: {type(command)}\"\u001b[0m\u001b[0;34m)\u001b[0m\u001b[0;34m\u001b[0m\u001b[0;34m\u001b[0m\u001b[0m\n\u001b[0;32m--> 467\u001b[0;31m             cursor = connection.execute(\n\u001b[0m\u001b[1;32m    468\u001b[0m                 \u001b[0mcommand\u001b[0m\u001b[0;34m,\u001b[0m\u001b[0;34m\u001b[0m\u001b[0;34m\u001b[0m\u001b[0m\n\u001b[1;32m    469\u001b[0m                 \u001b[0mparameters\u001b[0m\u001b[0;34m,\u001b[0m\u001b[0;34m\u001b[0m\u001b[0;34m\u001b[0m\u001b[0m\n",
      "\u001b[0;32m/usr/local/lib/python3.10/dist-packages/sqlalchemy/engine/base.py\u001b[0m in \u001b[0;36mexecute\u001b[0;34m(self, statement, parameters, execution_options)\u001b[0m\n\u001b[1;32m   1416\u001b[0m             \u001b[0;32mraise\u001b[0m \u001b[0mexc\u001b[0m\u001b[0;34m.\u001b[0m\u001b[0mObjectNotExecutableError\u001b[0m\u001b[0;34m(\u001b[0m\u001b[0mstatement\u001b[0m\u001b[0;34m)\u001b[0m \u001b[0;32mfrom\u001b[0m \u001b[0merr\u001b[0m\u001b[0;34m\u001b[0m\u001b[0;34m\u001b[0m\u001b[0m\n\u001b[1;32m   1417\u001b[0m         \u001b[0;32melse\u001b[0m\u001b[0;34m:\u001b[0m\u001b[0;34m\u001b[0m\u001b[0;34m\u001b[0m\u001b[0m\n\u001b[0;32m-> 1418\u001b[0;31m             return meth(\n\u001b[0m\u001b[1;32m   1419\u001b[0m                 \u001b[0mself\u001b[0m\u001b[0;34m,\u001b[0m\u001b[0;34m\u001b[0m\u001b[0;34m\u001b[0m\u001b[0m\n\u001b[1;32m   1420\u001b[0m                 \u001b[0mdistilled_parameters\u001b[0m\u001b[0;34m,\u001b[0m\u001b[0;34m\u001b[0m\u001b[0;34m\u001b[0m\u001b[0m\n",
      "\u001b[0;32m/usr/local/lib/python3.10/dist-packages/sqlalchemy/sql/elements.py\u001b[0m in \u001b[0;36m_execute_on_connection\u001b[0;34m(self, connection, distilled_params, execution_options)\u001b[0m\n\u001b[1;32m    513\u001b[0m             \u001b[0;32mif\u001b[0m \u001b[0mTYPE_CHECKING\u001b[0m\u001b[0;34m:\u001b[0m\u001b[0;34m\u001b[0m\u001b[0;34m\u001b[0m\u001b[0m\n\u001b[1;32m    514\u001b[0m                 \u001b[0;32massert\u001b[0m \u001b[0misinstance\u001b[0m\u001b[0;34m(\u001b[0m\u001b[0mself\u001b[0m\u001b[0;34m,\u001b[0m \u001b[0mExecutable\u001b[0m\u001b[0;34m)\u001b[0m\u001b[0;34m\u001b[0m\u001b[0;34m\u001b[0m\u001b[0m\n\u001b[0;32m--> 515\u001b[0;31m             return connection._execute_clauseelement(\n\u001b[0m\u001b[1;32m    516\u001b[0m                 \u001b[0mself\u001b[0m\u001b[0;34m,\u001b[0m \u001b[0mdistilled_params\u001b[0m\u001b[0;34m,\u001b[0m \u001b[0mexecution_options\u001b[0m\u001b[0;34m\u001b[0m\u001b[0;34m\u001b[0m\u001b[0m\n\u001b[1;32m    517\u001b[0m             )\n",
      "\u001b[0;32m/usr/local/lib/python3.10/dist-packages/sqlalchemy/engine/base.py\u001b[0m in \u001b[0;36m_execute_clauseelement\u001b[0;34m(self, elem, distilled_parameters, execution_options)\u001b[0m\n\u001b[1;32m   1638\u001b[0m             \u001b[0mlinting\u001b[0m\u001b[0;34m=\u001b[0m\u001b[0mself\u001b[0m\u001b[0;34m.\u001b[0m\u001b[0mdialect\u001b[0m\u001b[0;34m.\u001b[0m\u001b[0mcompiler_linting\u001b[0m \u001b[0;34m|\u001b[0m \u001b[0mcompiler\u001b[0m\u001b[0;34m.\u001b[0m\u001b[0mWARN_LINTING\u001b[0m\u001b[0;34m,\u001b[0m\u001b[0;34m\u001b[0m\u001b[0;34m\u001b[0m\u001b[0m\n\u001b[1;32m   1639\u001b[0m         )\n\u001b[0;32m-> 1640\u001b[0;31m         ret = self._execute_context(\n\u001b[0m\u001b[1;32m   1641\u001b[0m             \u001b[0mdialect\u001b[0m\u001b[0;34m,\u001b[0m\u001b[0;34m\u001b[0m\u001b[0;34m\u001b[0m\u001b[0m\n\u001b[1;32m   1642\u001b[0m             \u001b[0mdialect\u001b[0m\u001b[0;34m.\u001b[0m\u001b[0mexecution_ctx_cls\u001b[0m\u001b[0;34m.\u001b[0m\u001b[0m_init_compiled\u001b[0m\u001b[0;34m,\u001b[0m\u001b[0;34m\u001b[0m\u001b[0;34m\u001b[0m\u001b[0m\n",
      "\u001b[0;32m/usr/local/lib/python3.10/dist-packages/sqlalchemy/engine/base.py\u001b[0m in \u001b[0;36m_execute_context\u001b[0;34m(self, dialect, constructor, statement, parameters, execution_options, *args, **kw)\u001b[0m\n\u001b[1;32m   1844\u001b[0m             \u001b[0;32mreturn\u001b[0m \u001b[0mself\u001b[0m\u001b[0;34m.\u001b[0m\u001b[0m_exec_insertmany_context\u001b[0m\u001b[0;34m(\u001b[0m\u001b[0mdialect\u001b[0m\u001b[0;34m,\u001b[0m \u001b[0mcontext\u001b[0m\u001b[0;34m)\u001b[0m\u001b[0;34m\u001b[0m\u001b[0;34m\u001b[0m\u001b[0m\n\u001b[1;32m   1845\u001b[0m         \u001b[0;32melse\u001b[0m\u001b[0;34m:\u001b[0m\u001b[0;34m\u001b[0m\u001b[0;34m\u001b[0m\u001b[0m\n\u001b[0;32m-> 1846\u001b[0;31m             return self._exec_single_context(\n\u001b[0m\u001b[1;32m   1847\u001b[0m                 \u001b[0mdialect\u001b[0m\u001b[0;34m,\u001b[0m \u001b[0mcontext\u001b[0m\u001b[0;34m,\u001b[0m \u001b[0mstatement\u001b[0m\u001b[0;34m,\u001b[0m \u001b[0mparameters\u001b[0m\u001b[0;34m\u001b[0m\u001b[0;34m\u001b[0m\u001b[0m\n\u001b[1;32m   1848\u001b[0m             )\n",
      "\u001b[0;32m/usr/local/lib/python3.10/dist-packages/sqlalchemy/engine/base.py\u001b[0m in \u001b[0;36m_exec_single_context\u001b[0;34m(self, dialect, context, statement, parameters)\u001b[0m\n\u001b[1;32m   1984\u001b[0m \u001b[0;34m\u001b[0m\u001b[0m\n\u001b[1;32m   1985\u001b[0m         \u001b[0;32mexcept\u001b[0m \u001b[0mBaseException\u001b[0m \u001b[0;32mas\u001b[0m \u001b[0me\u001b[0m\u001b[0;34m:\u001b[0m\u001b[0;34m\u001b[0m\u001b[0;34m\u001b[0m\u001b[0m\n\u001b[0;32m-> 1986\u001b[0;31m             self._handle_dbapi_exception(\n\u001b[0m\u001b[1;32m   1987\u001b[0m                 \u001b[0me\u001b[0m\u001b[0;34m,\u001b[0m \u001b[0mstr_statement\u001b[0m\u001b[0;34m,\u001b[0m \u001b[0meffective_parameters\u001b[0m\u001b[0;34m,\u001b[0m \u001b[0mcursor\u001b[0m\u001b[0;34m,\u001b[0m \u001b[0mcontext\u001b[0m\u001b[0;34m\u001b[0m\u001b[0;34m\u001b[0m\u001b[0m\n\u001b[1;32m   1988\u001b[0m             )\n",
      "\u001b[0;32m/usr/local/lib/python3.10/dist-packages/sqlalchemy/engine/base.py\u001b[0m in \u001b[0;36m_handle_dbapi_exception\u001b[0;34m(self, e, statement, parameters, cursor, context, is_sub_exec)\u001b[0m\n\u001b[1;32m   2353\u001b[0m             \u001b[0;32melif\u001b[0m \u001b[0mshould_wrap\u001b[0m\u001b[0;34m:\u001b[0m\u001b[0;34m\u001b[0m\u001b[0;34m\u001b[0m\u001b[0m\n\u001b[1;32m   2354\u001b[0m                 \u001b[0;32massert\u001b[0m \u001b[0msqlalchemy_exception\u001b[0m \u001b[0;32mis\u001b[0m \u001b[0;32mnot\u001b[0m \u001b[0;32mNone\u001b[0m\u001b[0;34m\u001b[0m\u001b[0;34m\u001b[0m\u001b[0m\n\u001b[0;32m-> 2355\u001b[0;31m                 \u001b[0;32mraise\u001b[0m \u001b[0msqlalchemy_exception\u001b[0m\u001b[0;34m.\u001b[0m\u001b[0mwith_traceback\u001b[0m\u001b[0;34m(\u001b[0m\u001b[0mexc_info\u001b[0m\u001b[0;34m[\u001b[0m\u001b[0;36m2\u001b[0m\u001b[0;34m]\u001b[0m\u001b[0;34m)\u001b[0m \u001b[0;32mfrom\u001b[0m \u001b[0me\u001b[0m\u001b[0;34m\u001b[0m\u001b[0;34m\u001b[0m\u001b[0m\n\u001b[0m\u001b[1;32m   2356\u001b[0m             \u001b[0;32melse\u001b[0m\u001b[0;34m:\u001b[0m\u001b[0;34m\u001b[0m\u001b[0;34m\u001b[0m\u001b[0m\n\u001b[1;32m   2357\u001b[0m                 \u001b[0;32massert\u001b[0m \u001b[0mexc_info\u001b[0m\u001b[0;34m[\u001b[0m\u001b[0;36m1\u001b[0m\u001b[0;34m]\u001b[0m \u001b[0;32mis\u001b[0m \u001b[0;32mnot\u001b[0m \u001b[0;32mNone\u001b[0m\u001b[0;34m\u001b[0m\u001b[0;34m\u001b[0m\u001b[0m\n",
      "\u001b[0;32m/usr/local/lib/python3.10/dist-packages/sqlalchemy/engine/base.py\u001b[0m in \u001b[0;36m_exec_single_context\u001b[0;34m(self, dialect, context, statement, parameters)\u001b[0m\n\u001b[1;32m   1965\u001b[0m                             \u001b[0;32mbreak\u001b[0m\u001b[0;34m\u001b[0m\u001b[0;34m\u001b[0m\u001b[0m\n\u001b[1;32m   1966\u001b[0m                 \u001b[0;32mif\u001b[0m \u001b[0;32mnot\u001b[0m \u001b[0mevt_handled\u001b[0m\u001b[0;34m:\u001b[0m\u001b[0;34m\u001b[0m\u001b[0;34m\u001b[0m\u001b[0m\n\u001b[0;32m-> 1967\u001b[0;31m                     self.dialect.do_execute(\n\u001b[0m\u001b[1;32m   1968\u001b[0m                         \u001b[0mcursor\u001b[0m\u001b[0;34m,\u001b[0m \u001b[0mstr_statement\u001b[0m\u001b[0;34m,\u001b[0m \u001b[0meffective_parameters\u001b[0m\u001b[0;34m,\u001b[0m \u001b[0mcontext\u001b[0m\u001b[0;34m\u001b[0m\u001b[0;34m\u001b[0m\u001b[0m\n\u001b[1;32m   1969\u001b[0m                     )\n",
      "\u001b[0;32m/usr/local/lib/python3.10/dist-packages/sqlalchemy/engine/default.py\u001b[0m in \u001b[0;36mdo_execute\u001b[0;34m(self, cursor, statement, parameters, context)\u001b[0m\n\u001b[1;32m    939\u001b[0m \u001b[0;34m\u001b[0m\u001b[0m\n\u001b[1;32m    940\u001b[0m     \u001b[0;32mdef\u001b[0m \u001b[0mdo_execute\u001b[0m\u001b[0;34m(\u001b[0m\u001b[0mself\u001b[0m\u001b[0;34m,\u001b[0m \u001b[0mcursor\u001b[0m\u001b[0;34m,\u001b[0m \u001b[0mstatement\u001b[0m\u001b[0;34m,\u001b[0m \u001b[0mparameters\u001b[0m\u001b[0;34m,\u001b[0m \u001b[0mcontext\u001b[0m\u001b[0;34m=\u001b[0m\u001b[0;32mNone\u001b[0m\u001b[0;34m)\u001b[0m\u001b[0;34m:\u001b[0m\u001b[0;34m\u001b[0m\u001b[0;34m\u001b[0m\u001b[0m\n\u001b[0;32m--> 941\u001b[0;31m         \u001b[0mcursor\u001b[0m\u001b[0;34m.\u001b[0m\u001b[0mexecute\u001b[0m\u001b[0;34m(\u001b[0m\u001b[0mstatement\u001b[0m\u001b[0;34m,\u001b[0m \u001b[0mparameters\u001b[0m\u001b[0;34m)\u001b[0m\u001b[0;34m\u001b[0m\u001b[0;34m\u001b[0m\u001b[0m\n\u001b[0m\u001b[1;32m    942\u001b[0m \u001b[0;34m\u001b[0m\u001b[0m\n\u001b[1;32m    943\u001b[0m     \u001b[0;32mdef\u001b[0m \u001b[0mdo_execute_no_params\u001b[0m\u001b[0;34m(\u001b[0m\u001b[0mself\u001b[0m\u001b[0;34m,\u001b[0m \u001b[0mcursor\u001b[0m\u001b[0;34m,\u001b[0m \u001b[0mstatement\u001b[0m\u001b[0;34m,\u001b[0m \u001b[0mcontext\u001b[0m\u001b[0;34m=\u001b[0m\u001b[0;32mNone\u001b[0m\u001b[0;34m)\u001b[0m\u001b[0;34m:\u001b[0m\u001b[0;34m\u001b[0m\u001b[0;34m\u001b[0m\u001b[0m\n",
      "\u001b[0;31mOperationalError\u001b[0m: (sqlite3.OperationalError) near \"Question\": syntax error\n[SQL: Question: What is the average and standard deviation of air quality in Indonesia?\nSQLQuery: SELECT \"mean\", \"std\" FROM \"airxcntry\" WHERE \"WB_NAME\" = 'Indonesia']\n(Background on this error at: https://sqlalche.me/e/20/e3q8)"
     ]
    }
   ],
   "source": [
    "db.run(sql_code_default)"
   ]
  },
  {
   "cell_type": "markdown",
   "id": "6cd2bc13636c3333",
   "metadata": {},
   "source": [
    "Oops! It hit an error. Something is wrong with our query. Let's see if we can do some prompt engineering to improve model."
   ]
  },
  {
   "cell_type": "code",
   "execution_count": 45,
   "id": "24c922f1be2cc359",
   "metadata": {
    "ExecuteTime": {
     "end_time": "2024-11-15T17:48:04.079473Z",
     "start_time": "2024-11-15T17:48:04.045196Z"
    },
    "execution": {
     "iopub.execute_input": "2025-03-03T18:56:02.303588Z",
     "iopub.status.busy": "2025-03-03T18:56:02.303292Z",
     "iopub.status.idle": "2025-03-03T18:56:02.329243Z",
     "shell.execute_reply": "2025-03-03T18:56:02.328167Z",
     "shell.execute_reply.started": "2025-03-03T18:56:02.303567Z"
    },
    "trusted": true
   },
   "outputs": [
    {
     "name": "stdout",
     "output_type": "stream",
     "text": [
      "You are a SQLite expert. Given an input question, first create a syntactically correct SQLite query to run, then look at the results of the query and return the answer to the input question.\n",
      "Unless the user specifies in the question a specific number of examples to obtain, query for at most 5 results using the LIMIT clause as per SQLite. You can order the results to return the most informative data in the database.\n",
      "Never query for all columns from a table. You must query only the columns that are needed to answer the question. Wrap each column name in double quotes (\") to denote them as delimited identifiers.\n",
      "Pay attention to use only the column names you can see in the tables below. Be careful to not query for columns that do not exist. Also, pay attention to which column is in which table.\n",
      "Pay attention to use date('now') function to get the current date, if the question involves \"today\".\n",
      "\n",
      "Use the following format:\n",
      "\n",
      "Question: Question here\n",
      "SQLQuery: SQL Query to run\n",
      "SQLResult: Result of the SQLQuery\n",
      "Answer: Final answer here\n",
      "\n",
      "Only use the following tables:\n",
      "\u001b[33;1m\u001b[1;3m{table_info}\u001b[0m\n",
      "\n",
      "Question: \u001b[33;1m\u001b[1;3m{input}\u001b[0m\n"
     ]
    }
   ],
   "source": [
    "# Default prompt\n",
    "sql_prompt_default = sql_agent_default.get_prompts()[0]\n",
    "sql_prompt_default.pretty_print()"
   ]
  },
  {
   "cell_type": "markdown",
   "id": "e754a4ea13e5216a",
   "metadata": {},
   "source": [
    "##### Prompt engineering\n",
    "\n",
    "Remove the following instructions, which may be confusing the model: \n",
    "* Pay attention to use date('now') function to get the current date, if the question involves \"today\".\n",
    "* Wrap each column name in double quotes (\") to denote them as delimited identifiers.\n",
    "\n",
    "And add the following instructions based on how we see the model interpreting our request. \n",
    "* Return ONLY the SQLQuery with no other context given. Do not include the question in the output. Do not include the title 'SQLQuery' in the output.\n"
   ]
  },
  {
   "cell_type": "code",
   "execution_count": 47,
   "id": "6bac32fa0c1a9305",
   "metadata": {
    "ExecuteTime": {
     "end_time": "2024-11-15T17:48:06.599896Z",
     "start_time": "2024-11-15T17:48:06.597206Z"
    },
    "execution": {
     "iopub.execute_input": "2025-03-03T18:56:38.269590Z",
     "iopub.status.busy": "2025-03-03T18:56:38.269288Z",
     "iopub.status.idle": "2025-03-03T18:56:38.276260Z",
     "shell.execute_reply": "2025-03-03T18:56:38.275251Z",
     "shell.execute_reply.started": "2025-03-03T18:56:38.269566Z"
    },
    "trusted": true
   },
   "outputs": [
    {
     "data": {
      "text/plain": [
       "PromptTemplate(input_variables=['dialect', 'input', 'table_info', 'top_k'], input_types={}, partial_variables={}, template=\"\\n    You are a SQLite expert. Given an input question, first create a syntactically correct {dialect} query to run, then look at the results of the query and return the answer to the input question.\\n    Unless the user specifies in the question a specific number of examples to obtain, query for at most {top_k} results using the LIMIT clause as per SQLite. You can order the results to return the most informative data in the database.\\n    Never query for all columns from a table. You must query only the columns that are needed to answer the question. \\n    Pay attention to use only the column names you can see in the tables below. Be careful to not query for columns that do not exist. Also, pay attention to which column is in which table.\\n    Return ONLY the SQLQuery with no other context given. Do not include the question in the output. Do not include the title 'SQLQuery' in the output.\\n    \\n    Use the following format:\\n    Question: Question here\\n    SQLQuery: SQL Query to run\\n    SQLResult: Result of the SQLQuery\\n    Answer: Final answer here\\n    \\n    Only use the following tables:\\n    {table_info}\\n    \\n    Question: {input}\\n\")"
      ]
     },
     "execution_count": 47,
     "metadata": {},
     "output_type": "execute_result"
    }
   ],
   "source": [
    "# Improved prompt\n",
    "sql_prompt_text = '''\n",
    "    You are a SQLite expert. Given an input question, first create a syntactically correct {dialect} query to run, then look at the results of the query and return the answer to the input question.\n",
    "    Unless the user specifies in the question a specific number of examples to obtain, query for at most {top_k} results using the LIMIT clause as per SQLite. You can order the results to return the most informative data in the database.\n",
    "    Never query for all columns from a table. You must query only the columns that are needed to answer the question. \n",
    "    Pay attention to use only the column names you can see in the tables below. Be careful to not query for columns that do not exist. Also, pay attention to which column is in which table.\n",
    "    Return ONLY the SQLQuery with no other context given. Do not include the question in the output. Do not include the title 'SQLQuery' in the output.\n",
    "    \n",
    "    Use the following format:\n",
    "    Question: Question here\n",
    "    SQLQuery: SQL Query to run\n",
    "    SQLResult: Result of the SQLQuery\n",
    "    Answer: Final answer here\n",
    "    \n",
    "    Only use the following tables:\n",
    "    {table_info}\n",
    "    \n",
    "    Question: {input}\n",
    "'''\n",
    "\n",
    "sql_prompt = PromptTemplate(\n",
    "    input_variables = [\"input\", \"table_info\", \"top_k\", \"dialect\"],\n",
    "    template=sql_prompt_text\n",
    ")\n",
    "\n",
    "sql_prompt"
   ]
  },
  {
   "cell_type": "code",
   "execution_count": 48,
   "id": "361ed6d18e870af3",
   "metadata": {
    "ExecuteTime": {
     "end_time": "2024-11-15T17:48:07.411414Z",
     "start_time": "2024-11-15T17:48:07.408186Z"
    },
    "execution": {
     "iopub.execute_input": "2025-03-03T18:56:47.045657Z",
     "iopub.status.busy": "2025-03-03T18:56:47.045343Z",
     "iopub.status.idle": "2025-03-03T18:56:47.053775Z",
     "shell.execute_reply": "2025-03-03T18:56:47.052813Z",
     "shell.execute_reply.started": "2025-03-03T18:56:47.045633Z"
    },
    "trusted": true
   },
   "outputs": [
    {
     "data": {
      "text/plain": [
       "RunnableAssign(mapper={\n",
       "  input: RunnableLambda(...),\n",
       "  table_info: RunnableLambda(...)\n",
       "})\n",
       "| RunnableLambda(lambda x: {k: v for (k, v) in x.items() if k not in ('question', 'table_names_to_use')})\n",
       "| PromptTemplate(input_variables=['input', 'table_info'], input_types={}, partial_variables={'dialect': 'sqlite', 'top_k': '5'}, template=\"\\n    You are a SQLite expert. Given an input question, first create a syntactically correct {dialect} query to run, then look at the results of the query and return the answer to the input question.\\n    Unless the user specifies in the question a specific number of examples to obtain, query for at most {top_k} results using the LIMIT clause as per SQLite. You can order the results to return the most informative data in the database.\\n    Never query for all columns from a table. You must query only the columns that are needed to answer the question. \\n    Pay attention to use only the column names you can see in the tables below. Be careful to not query for columns that do not exist. Also, pay attention to which column is in which table.\\n    Return ONLY the SQLQuery with no other context given. Do not include the question in the output. Do not include the title 'SQLQuery' in the output.\\n    \\n    Use the following format:\\n    Question: Question here\\n    SQLQuery: SQL Query to run\\n    SQLResult: Result of the SQLQuery\\n    Answer: Final answer here\\n    \\n    Only use the following tables:\\n    {table_info}\\n    \\n    Question: {input}\\n\")\n",
       "| RunnableBinding(bound=ChatOllama(model='llama3.1', seed=123), kwargs={'stop': ['\\nSQLResult:']}, config={}, config_factories=[])\n",
       "| StrOutputParser()\n",
       "| RunnableLambda(_strip)"
      ]
     },
     "execution_count": 48,
     "metadata": {},
     "output_type": "execute_result"
    }
   ],
   "source": [
    "# New agent based on improved prompt\n",
    "sql_agent = create_sql_query_chain(model, db, prompt=sql_prompt)\n",
    "sql_agent"
   ]
  },
  {
   "cell_type": "markdown",
   "id": "d4071cde56ec9c4d",
   "metadata": {},
   "source": [
    "Now let's see what our new model returns when asked to generate SQL code.\n"
   ]
  },
  {
   "cell_type": "code",
   "execution_count": 50,
   "id": "1d6c6f1a520bc1bd",
   "metadata": {
    "ExecuteTime": {
     "end_time": "2024-11-15T17:48:12.083594Z",
     "start_time": "2024-11-15T17:48:09.084468Z"
    },
    "execution": {
     "iopub.execute_input": "2025-03-03T19:06:59.108994Z",
     "iopub.status.busy": "2025-03-03T19:06:59.108611Z",
     "iopub.status.idle": "2025-03-03T19:07:03.847081Z",
     "shell.execute_reply": "2025-03-03T19:07:03.846271Z",
     "shell.execute_reply.started": "2025-03-03T19:06:59.108967Z"
    },
    "trusted": true
   },
   "outputs": [
    {
     "name": "stdout",
     "output_type": "stream",
     "text": [
      "SELECT mean, std FROM airxcntry WHERE WB_NAME = 'Indonesia'\n",
      "[(14.905112004829341, 3.897445770948378)]\n",
      "\n",
      "Answer key:\n"
     ]
    },
    {
     "data": {
      "text/plain": [
       "[{'mean': 14.91, 'std': 3.9}]"
      ]
     },
     "execution_count": 50,
     "metadata": {},
     "output_type": "execute_result"
    }
   ],
   "source": [
    "sql_code = sql_agent.invoke({\"question\": q_simple})\n",
    "print(sql_code)\n",
    "print(db.run(sql_code))\n",
    "\n",
    "print(\"\\nAnswer key:\")\n",
    "answer_key['q_simple']"
   ]
  },
  {
   "cell_type": "markdown",
   "id": "95f50bfd7975c438",
   "metadata": {},
   "source": [
    "Yay! We haven't actually built another agent to execute the SQL query yet, so let's do that now; and chain it to the agent that writes SQL code.\n"
   ]
  },
  {
   "cell_type": "markdown",
   "id": "bfb0f5d2d1156178",
   "metadata": {},
   "source": [
    "#### b) Execute SQL query"
   ]
  },
  {
   "cell_type": "code",
   "execution_count": 51,
   "id": "cf85b2154c2d5f45",
   "metadata": {
    "ExecuteTime": {
     "end_time": "2024-11-15T17:48:18.776196Z",
     "start_time": "2024-11-15T17:48:18.003412Z"
    },
    "execution": {
     "iopub.execute_input": "2025-03-03T19:07:09.997813Z",
     "iopub.status.busy": "2025-03-03T19:07:09.997474Z",
     "iopub.status.idle": "2025-03-03T19:07:10.715744Z",
     "shell.execute_reply": "2025-03-03T19:07:10.714838Z",
     "shell.execute_reply.started": "2025-03-03T19:07:09.997789Z"
    },
    "trusted": true
   },
   "outputs": [
    {
     "data": {
      "text/plain": [
       "'[(14.905112004829341, 3.897445770948378)]'"
      ]
     },
     "execution_count": 51,
     "metadata": {},
     "output_type": "execute_result"
    }
   ],
   "source": [
    "# b) Execute SQL query \n",
    "execute_sql_query = QuerySQLDataBaseTool(db=db)\n",
    "write_sql_query = create_sql_query_chain(model, db, prompt=sql_prompt)\n",
    "sql_chain = write_sql_query | execute_sql_query\n",
    "sql_chain.invoke({\"question\": q_simple})"
   ]
  },
  {
   "cell_type": "markdown",
   "id": "6a07fbc43e522de5",
   "metadata": {},
   "source": [
    "#### c) Natural language response"
   ]
  },
  {
   "cell_type": "code",
   "execution_count": 53,
   "id": "152d987bda8b1cdc",
   "metadata": {
    "ExecuteTime": {
     "end_time": "2024-11-15T17:48:20.173707Z",
     "start_time": "2024-11-15T17:48:20.171490Z"
    },
    "execution": {
     "iopub.execute_input": "2025-03-03T19:07:44.859938Z",
     "iopub.status.busy": "2025-03-03T19:07:44.859604Z",
     "iopub.status.idle": "2025-03-03T19:07:44.865595Z",
     "shell.execute_reply": "2025-03-03T19:07:44.864692Z",
     "shell.execute_reply.started": "2025-03-03T19:07:44.859914Z"
    },
    "trusted": true
   },
   "outputs": [
    {
     "data": {
      "text/plain": [
       "PromptTemplate(input_variables=['query', 'question', 'result'], input_types={}, partial_variables={}, template='Given the following user question, corresponding SQL query, and SQL result, answer the user question.\\n\\n    Question: {question}\\n    SQL Query: {query}\\n    SQL Result: {result}\\n    Answer:\\n    \\n    ')"
      ]
     },
     "execution_count": 53,
     "metadata": {},
     "output_type": "execute_result"
    }
   ],
   "source": [
    "# Prompt for agent that will interact with user\n",
    "answer_prompt = PromptTemplate.from_template(\n",
    "    \"\"\"Given the following user question, corresponding SQL query, and SQL result, answer the user question.\n",
    "\n",
    "    Question: {question}\n",
    "    SQL Query: {query}\n",
    "    SQL Result: {result}\n",
    "    Answer:\n",
    "    \n",
    "    \"\"\"\n",
    ")\n",
    "answer_prompt"
   ]
  },
  {
   "cell_type": "code",
   "execution_count": 54,
   "id": "526edb479432fcc6",
   "metadata": {
    "ExecuteTime": {
     "end_time": "2024-11-15T17:48:22.706591Z",
     "start_time": "2024-11-15T17:48:22.700630Z"
    },
    "execution": {
     "iopub.execute_input": "2025-03-03T19:07:49.299149Z",
     "iopub.status.busy": "2025-03-03T19:07:49.298862Z",
     "iopub.status.idle": "2025-03-03T19:07:49.307894Z",
     "shell.execute_reply": "2025-03-03T19:07:49.307061Z",
     "shell.execute_reply.started": "2025-03-03T19:07:49.299129Z"
    },
    "trusted": true
   },
   "outputs": [
    {
     "data": {
      "text/plain": [
       "RunnableAssign(mapper={\n",
       "  query: RunnableAssign(mapper={\n",
       "           input: RunnableLambda(...),\n",
       "           table_info: RunnableLambda(...)\n",
       "         })\n",
       "         | RunnableLambda(lambda x: {k: v for (k, v) in x.items() if k not in ('question', 'table_names_to_use')})\n",
       "         | PromptTemplate(input_variables=['input', 'table_info'], input_types={}, partial_variables={'dialect': 'sqlite', 'top_k': '5'}, template=\"\\n    You are a SQLite expert. Given an input question, first create a syntactically correct {dialect} query to run, then look at the results of the query and return the answer to the input question.\\n    Unless the user specifies in the question a specific number of examples to obtain, query for at most {top_k} results using the LIMIT clause as per SQLite. You can order the results to return the most informative data in the database.\\n    Never query for all columns from a table. You must query only the columns that are needed to answer the question. \\n    Pay attention to use only the column names you can see in the tables below. Be careful to not query for columns that do not exist. Also, pay attention to which column is in which table.\\n    Return ONLY the SQLQuery with no other context given. Do not include the question in the output. Do not include the title 'SQLQuery' in the output.\\n    \\n    Use the following format:\\n    Question: Question here\\n    SQLQuery: SQL Query to run\\n    SQLResult: Result of the SQLQuery\\n    Answer: Final answer here\\n    \\n    Only use the following tables:\\n    {table_info}\\n    \\n    Question: {input}\\n\")\n",
       "         | RunnableBinding(bound=ChatOllama(model='llama3.1', seed=123), kwargs={'stop': ['\\nSQLResult:']}, config={}, config_factories=[])\n",
       "         | StrOutputParser()\n",
       "         | RunnableLambda(_strip)\n",
       "})\n",
       "| RunnableAssign(mapper={\n",
       "    result: RunnableLambda(itemgetter('query'))\n",
       "            | QuerySQLDataBaseTool(db=<langchain_community.utilities.sql_database.SQLDatabase object at 0x79b57a9c9270>)\n",
       "  })\n",
       "| PromptTemplate(input_variables=['query', 'question', 'result'], input_types={}, partial_variables={}, template='Given the following user question, corresponding SQL query, and SQL result, answer the user question.\\n\\n    Question: {question}\\n    SQL Query: {query}\\n    SQL Result: {result}\\n    Answer:\\n    \\n    ')\n",
       "| ChatOllama(model='llama3.1', seed=123)\n",
       "| StrOutputParser()"
      ]
     },
     "execution_count": 54,
     "metadata": {},
     "output_type": "execute_result"
    }
   ],
   "source": [
    "# Chain all agents together\n",
    "chain = (\n",
    "    RunnablePassthrough.assign(query=write_sql_query).assign(\n",
    "        result=itemgetter(\"query\") | execute_sql_query\n",
    "    )\n",
    "    | answer_prompt | model | StrOutputParser()\n",
    ")\n",
    "chain"
   ]
  },
  {
   "cell_type": "code",
   "execution_count": 55,
   "id": "f9482dae57eb9526",
   "metadata": {
    "ExecuteTime": {
     "end_time": "2024-11-15T17:48:26.378552Z",
     "start_time": "2024-11-15T17:48:23.323118Z"
    },
    "execution": {
     "iopub.execute_input": "2025-03-03T19:07:53.833195Z",
     "iopub.status.busy": "2025-03-03T19:07:53.832864Z",
     "iopub.status.idle": "2025-03-03T19:07:55.859708Z",
     "shell.execute_reply": "2025-03-03T19:07:55.858797Z",
     "shell.execute_reply.started": "2025-03-03T19:07:53.833170Z"
    },
    "trusted": true
   },
   "outputs": [
    {
     "name": "stdout",
     "output_type": "stream",
     "text": [
      "The average air quality in Indonesia is approximately 14.91, and the standard deviation of air quality in Indonesia is approximately 3.90.\n"
     ]
    }
   ],
   "source": [
    "# Test chain\n",
    "final_response = chain.invoke({\"question\": q_simple})\n",
    "print(final_response)"
   ]
  },
  {
   "cell_type": "markdown",
   "id": "fed3c0416234e4a8",
   "metadata": {},
   "source": [
    "### 4) Answers to other queries"
   ]
  },
  {
   "cell_type": "code",
   "execution_count": 56,
   "id": "91c6d578fac075d3",
   "metadata": {
    "ExecuteTime": {
     "end_time": "2024-11-15T17:48:44.355489Z",
     "start_time": "2024-11-15T17:48:33.333587Z"
    },
    "execution": {
     "iopub.execute_input": "2025-03-03T19:08:05.726272Z",
     "iopub.status.busy": "2025-03-03T19:08:05.725950Z",
     "iopub.status.idle": "2025-03-03T19:08:12.169664Z",
     "shell.execute_reply": "2025-03-03T19:08:12.168881Z",
     "shell.execute_reply.started": "2025-03-03T19:08:05.726244Z"
    },
    "trusted": true
   },
   "outputs": [
    {
     "name": "stdout",
     "output_type": "stream",
     "text": [
      "Which five countries have the worst air quality? \n",
      "\n",
      "Based on the SQL result, it appears that the countries with the worst air quality are:\n",
      "\n",
      "1. Chad\n",
      "2. India\n",
      "3. Nigeria\n",
      "4. Niger\n",
      "5. China\n",
      "\n",
      "These five countries have the lowest standard deviation (std) in their air quality data, indicating that they tend to have more consistent levels of poor air quality.\n",
      "\n",
      "So, my answer is: The five countries with the worst air quality are Chad, India, Nigeria, Niger, and China.\n",
      "\n",
      "Answer key: ['Qatar', 'Bangladesh', 'Nigeria', 'Saudi Arabia', 'United Arab Emirates']\n",
      "\n",
      "SQL code written: SELECT WB_NAME FROM airxcntry ORDER BY std DESC LIMIT 5\n"
     ]
    }
   ],
   "source": [
    "# q_relative \n",
    "# q_relative = \"Which five countries have the worst average air quality?\"\n",
    "\n",
    "print(q_relative, \"\\n\")\n",
    "\n",
    "r_relative = chain.invoke({\"question\": q_relative})\n",
    "print(r_relative)\n",
    "\n",
    "print(\"\\nAnswer key:\", answer_key['q_relative'])\n",
    "\n",
    "print(\"\\nSQL code written:\", sql_agent.invoke({\"question\": q_relative}))\n"
   ]
  },
  {
   "cell_type": "markdown",
   "id": "6edf8f9ca519701",
   "metadata": {},
   "source": [
    "##### Human assessment: A little verbose and chose to rely on the min instead of mean columns which could be defensible, but should be standardized. Greatly improved by user adding more context."
   ]
  },
  {
   "cell_type": "code",
   "execution_count": 57,
   "id": "b2f3e31fa2b6e491",
   "metadata": {
    "ExecuteTime": {
     "end_time": "2024-11-15T17:49:14.042082Z",
     "start_time": "2024-11-15T17:49:04.589220Z"
    },
    "execution": {
     "iopub.execute_input": "2025-03-03T19:08:19.915187Z",
     "iopub.status.busy": "2025-03-03T19:08:19.914865Z",
     "iopub.status.idle": "2025-03-03T19:08:25.157770Z",
     "shell.execute_reply": "2025-03-03T19:08:25.156934Z",
     "shell.execute_reply.started": "2025-03-03T19:08:19.915159Z"
    },
    "trusted": true
   },
   "outputs": [
    {
     "name": "stdout",
     "output_type": "stream",
     "text": [
      "What is the average air quality on each continent? \n",
      "\n",
      "The average air quality on each continent is as follows:\n",
      "\n",
      "* Africa: 22.63\n",
      "* Asia: 14.91\n",
      "* Europe: 9.92\n",
      "* North America: 16.97\n",
      "* Oceania: 12.76\n",
      "* Seven seas (open ocean): 4.88\n",
      "* South America: 16.12\n",
      "\n",
      "Answer key: {'Africa': 29.7, 'Asia': 31.31, 'Europe': 12.78, 'North America': 11.88, 'Oceania': 5.72, 'Seven seas (open ocean)': 7.44, 'South America': 17.68}\n",
      "\n",
      "SQL code written: SELECT CONTINENT, mean FROM airxcntry GROUP BY CONTINENT\n"
     ]
    }
   ],
   "source": [
    "# q_summarize\n",
    "\n",
    "print(q_summarize, \"\\n\")\n",
    "\n",
    "r_summarize = chain.invoke({\"question\": q_summarize})\n",
    "print(r_summarize)\n",
    "\n",
    "print(\"\\nAnswer key:\", answer_key['q_summarize'])\n",
    "\n",
    "print(\"\\nSQL code written:\", sql_agent.invoke({\"question\": q_summarize}))\n"
   ]
  },
  {
   "cell_type": "markdown",
   "id": "74b0bd01c3a36f14",
   "metadata": {},
   "source": [
    "##### Human assessment: Incorrect! Looks like it is just taking the mean of the first entry in each continent. "
   ]
  },
  {
   "cell_type": "code",
   "execution_count": 58,
   "id": "30aac53cf8fcaeff",
   "metadata": {
    "ExecuteTime": {
     "end_time": "2024-11-15T17:49:34.931943Z",
     "start_time": "2024-11-15T17:49:22.735309Z"
    },
    "execution": {
     "iopub.execute_input": "2025-03-03T19:08:29.093127Z",
     "iopub.status.busy": "2025-03-03T19:08:29.092838Z",
     "iopub.status.idle": "2025-03-03T19:08:33.590667Z",
     "shell.execute_reply": "2025-03-03T19:08:33.589778Z",
     "shell.execute_reply.started": "2025-03-03T19:08:29.093107Z"
    },
    "trusted": true
   },
   "outputs": [
    {
     "name": "stdout",
     "output_type": "stream",
     "text": [
      "In how many countries did maximum air quality surpass 100 micrograms per cubic meter? \n",
      "\n",
      "Based on the SQL query and result provided, it appears that there are 10 countries where the maximum air quality exceeded 100 micrograms per cubic meter. \n",
      "\n",
      "The answer to the user's question would be:\n",
      "\n",
      "\"There were 10 countries where the maximum air quality surpassed 100 micrograms per cubic meter.\"\n",
      "\n",
      "Answer key: 10\n",
      "\n",
      "SQL code written: SELECT COUNT(index) FROM airxcntry WHERE max > 100\n"
     ]
    }
   ],
   "source": [
    "# q_filter\n",
    "\n",
    "print(q_filter, \"\\n\")\n",
    "\n",
    "r_filter = chain.invoke({\"question\": q_filter})\n",
    "print(r_filter)\n",
    "\n",
    "print(\"\\nAnswer key:\", answer_key['q_filter'])\n",
    "\n",
    "print(\"\\nSQL code written:\", sql_agent.invoke({\"question\": q_filter}))\n"
   ]
  },
  {
   "cell_type": "markdown",
   "id": "2c2701b81e824c83",
   "metadata": {},
   "source": [
    "##### Human assessment: Again verbose and never got around to actually answering the question. Not sure its suggestion is the best / most efficient SQL query either."
   ]
  },
  {
   "cell_type": "markdown",
   "id": "c90c43f5-97c1-4577-b832-c8d37f4555a4",
   "metadata": {},
   "source": [
    "## Acknowledgements\n",
    "Thank you to [Zia Mehrabi](https://www.colorado.edu/envs/zia-mehrabi) for ideating a chatbot that can help people discover human rights violations. Thank you to [Naia Ormaza Zulueta](https://www.colorado.edu/envs/naia-ormaza-zulueta) for compiling the datasets and thank you to [Katie Fankhauser](https://www.linkedin.com/in/katie-fankhauser/) for writing most of the code. [Isaiah Lyons-Galante](https://www.colorado.edu/envs/isaiah-lyons-galante) adapted the notebook for Kaggle and for the AI for Good course. All contributions were made as members of the Better Planet Lab."
   ]
  },
  {
   "cell_type": "markdown",
   "id": "6dc453fc-9b14-4d88-87a7-1e907c0b1957",
   "metadata": {},
   "source": [
    "## Assignment\n",
    "\n",
    "## Bonus Assignment"
   ]
  }
 ],
 "metadata": {
  "kaggle": {
   "accelerator": "gpu",
   "dataSources": [
    {
     "datasetId": 6781963,
     "sourceId": 10910232,
     "sourceType": "datasetVersion"
    }
   ],
   "dockerImageVersionId": 30918,
   "isGpuEnabled": true,
   "isInternetEnabled": true,
   "language": "python",
   "sourceType": "notebook"
  },
  "kernelspec": {
   "display_name": "Python 3",
   "language": "python",
   "name": "python3"
  },
  "language_info": {
   "codemirror_mode": {
    "name": "ipython",
    "version": 3
   },
   "file_extension": ".py",
   "mimetype": "text/x-python",
   "name": "python",
   "nbconvert_exporter": "python",
   "pygments_lexer": "ipython3",
   "version": "3.10.12"
  }
 },
 "nbformat": 4,
 "nbformat_minor": 5
}
